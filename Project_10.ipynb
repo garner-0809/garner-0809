{
 "cells": [
  {
   "cell_type": "markdown",
   "metadata": {},
   "source": [
    "<img src=\"https://s3.amazonaws.com/ByC_logo_prod/unit-26963.jpg\" alt=\"Alt text that describes the graphic\" width=\"600\" />"
   ]
  },
  {
   "cell_type": "markdown",
   "metadata": {},
   "source": [
    "# Title\n",
    "\n",
    "Add the title of your project and delete the default one."
   ]
  },
  {
   "cell_type": "markdown",
   "metadata": {
    "jupyter": {
     "source_hidden": true
    }
   },
   "source": [
    "# Table of contents\n",
    "\n",
    "- [Abstract](#Abstract)\n",
    "- [Introduction](#Introduction)\n",
    "- [1. The problem](#1.-The-problem)\n",
    "- [2. Purpose of the study](#2.-Purpose-of-the-study)\n",
    "- [3. Project description](#3.-Project-description)\n",
    "    - [3.1 Hypothesis](#3.1-Hypothesis)\n",
    "    - [3.2 Workflow](#3.2-Workflow)\n",
    "    - [3.3 Methods](#3.3-Methods)\n",
    "    - [3.4Analysis](#3.4-Analysis)\n",
    "    - [3.5 Results](#3.5-Results)\n",
    "- [4. Implementation (optional)](#4.-Implementation-(optional))\n",
    "- [Conclusion](#Conclusion)\n",
    "- [References](#References)"
   ]
  },
  {
   "cell_type": "markdown",
   "metadata": {},
   "source": [
    "##  Abstract"
   ]
  },
  {
   "cell_type": "markdown",
   "metadata": {},
   "source": [
    "_**Four aspects of the final project**_:\n",
    "\n",
    "_**Purpose**_:\n",
    "Purpose of the projects is to identify key valuation metrics across 10 capital market sectors that can be considered as principal metrics across a spectrum of sectors.\n",
    "\n",
    "_**Models**_: \n",
    "In determining the classification of an equity's returns given a combination of valuation metric, this project will be implementing a special case of generalized linear model. This model will include a binary dependent variable and mixture of continuous and discrete independent variables to classifying an observation of 200+ plus equities.\n",
    "\n",
    "_**Methods**_:\n",
    "Methods used to achieve the desired outcome of the project will be the Logistic Regression, Recursive Feature Elimination, Grid SeachCV, K-fold and Tuning of Hyperparameters for the purpose of enhancing the model’s performance, accuracy and selecting the independent variable with meaningful influence.\n",
    "\n",
    "_**Major findings from analysis**_:\n",
    "\n",
    "- *Base on the distribution of returns: Investor have a higher probability of returns by shorting (selling) equity's than being long (buying) equity.*\n",
    "\n",
    "- *Uncover the top 10 impactful valuation metric across 10 different sectors*\n",
    "\n",
    "-  *Each sectors mean return and standard deviation that links the amount of risk to achieve a lever of return*.\n",
    "\n",
    "- *Leverage ratio is higher when companies have a lower level of total equity*.\n",
    "\n",
    "\n",
    "**Interpretation of Conclusion**: \n",
    "\n",
    "When analyzing valuation metrics relative to an annual holding period return across 10 equity sectors were able to predict with a 76% accuracy the classification of an equity's return."
   ]
  },
  {
   "cell_type": "markdown",
   "metadata": {},
   "source": [
    "## Introduction\n",
    "\n",
    "Introduce your project. Describe all the processes you followed to solve the problem."
   ]
  },
  {
   "cell_type": "markdown",
   "metadata": {},
   "source": [
    "_**Project introduction**_:\n",
    "\n",
    "One of the key concerns in investment selection for retail investors is which valuation metrics are important in forecasting positive returns. Ultimately as investor, we look for simplified procedures to narrow down our prospective equities to achieve reasonable return on investment (ROI).\n",
    "\n",
    "A company's financial report has an overwhelming amount of valuation metrics, so our concern is which metrics can be used as a principal measure for all equities regardless of sectors. So, one task of this project is to eliminate valuation metrics that don't transfer influence across sectors relative to a holding period annual return. Then we will proceed in creating a Logistic Regression model to measure how influential the selected features are in classifying in equities returns given state threshold. \n",
    "\n",
    "_**This project will consider 10 sectors to be included in this data science project:**_\n",
    "- Energy\n",
    "- Consumer Staples \n",
    "- Consumer Discretionary \n",
    "- Financials\n",
    "- Materials \n",
    "- Industrials \n",
    "- Real Estate \n",
    "- Telecommunication Services\n",
    "- Information Technology\n",
    "- HealthCare\n",
    "\n",
    "_**Project Sections**_:\n",
    "\n",
    "_**Dataset Section**_: \n",
    "- _**Metrics**_ section consist of the fundamental datasets which includes important financial reporting line items such as, profit margin, return on equity and cash ratio. \n",
    "- _**Price**_ section consist of the annual holding period returns  and the average annual volume for each equity. \n",
    "- _**Equity**_ section consisted of descriptive features such as company name, location, ticker, sector and sub-industry and central key index (CIK). \n",
    "\n",
    "**Merging Dataset Section**: this is the stage of merging the 3 datasets equity, metrics and price on a common column for the purpose preparing the dataset for model implementation. The principal data set name for this project is \"project\", which consist of the merging or the latter three datasets.\n",
    "\n",
    "**Explanatory Data Analysis section**: consist of understanding the amount of missing data in the project dataset and understanding the correlation of the dataset. this stage also includes the elimination large number of unnecessary columns. \n",
    "\n",
    "**Visualization Section**: visualizations of the relational interaction among various equity features. \n",
    "\n",
    "**Modeling Implementation Section**: Includes the Logistical Regression Model, Recursive Feature Elimination, Cross Val Score, GridSeachCV to achieve and efficient model performance.\n",
    "\n",
    "\n",
    "_**Overview of the Problem-Solving Framework**_ \n",
    "\n",
    "This project will analyze three separate datasets that consist of 1) An observations of line items of each equity's financial report 2) A general description of each publicly traded company, i.e., ticker, company name and location etc. 3) annual equity prices and holding period return. Each of these datasets will be engineered to the specification of the projects target conclusion. The focus of this project will be in the year of 2015, so all data of this time period will be extracted from the dataset.\n",
    "\n",
    "_**The following is the Problem-Solving Framework**_:\n",
    "\n",
    "1. Analyze the predicative factors (valuation metrics) interaction with one another and with the target variable. This procedure is to understand the degree of correlation in our dataset.\n",
    "\n",
    "2. Eliminate variables with no or little correlation with the target variable. \n",
    "\n",
    "3. Produce an **correlation matrix** to identify the top 10 correlate valuation metric to be used in our model. \n",
    "\n",
    "4.  Proceed with fitting this dataset into the **Recursive Feature Elimination model**  with  'n_features_to_select' the five best predicative features to be used in the final model.\n",
    "\n",
    "5.  **Cross Val Score** will determines how efficient our model responds to new data by 'folding' our data into \"k-section\".\n",
    "\n",
    "6. Complete a **Grid Search** to dictate the selected **hyperparameters** that yields the best performing models for a specified dataset. To enhance model performance on testing datasets.\n",
    "\n",
    "7. Then we will perform a **Logistical Regression model** using the selected hyperparameters and features.\n",
    "\n"
   ]
  },
  {
   "cell_type": "markdown",
   "metadata": {},
   "source": [
    "## 1. The problem\n",
    "What's the problem you are trying to solve?\n",
    "\n",
    "#### Simplifying the Investment Process.\n",
    "\n",
    "_*This data science project ultimate goal is to uncover 4 key valuation metrics that can be used across different sector that\n",
    "are indicative of a return of 5 percent or more.*_\n",
    "\n",
    "*In most case retail investor consists of investor with*:\n",
    " - Smaller trading accounts.\n",
    " - Incur higher fees.\n",
    " - Little or no years of trading experience.\n",
    "\n",
    "This model is to provide a standardize investment approach that targets 4 valuation metrics for new investor to consider prior to taking a long opposition in a stock.\n",
    "\n",
    "\n",
    "Reference: https://www.retailinvestor.org/investorReturns.html\n",
    "\n",
    "[Back to top]"
   ]
  },
  {
   "cell_type": "markdown",
   "metadata": {},
   "source": [
    "## 2. Purpose of the study\n",
    "\n",
    "We want to take 300+ equity observations from 10 different sectors and model their valuation metrics in determining which metrics accurately predict positive returns regardless of sector.\n",
    "\n",
    "This project will categorize the holding period returns variables (y) as 0 for returns under 5 percent and 1 for returns above 5 percent. After binarizing the 'y' variables of the 'project' dataset we will be able to conclude with a 70 to 80% accuracy the correct classification equities returns of 5% by more considering 4 valuation metrics. As a result, the purpose of this project is to provide retail investors with a simplified approach to investment management. This project is a response to the growth in retail investing becoming the preferred model for investment management.  Below are four statistics provide by 'Marketplacefairness.org':\n",
    "\n",
    "- Around 15% of retail investors today got their start in 2020.\n",
    "- Retail investors made up around 17% of the market in January of 2020, but that number was 25%+ in July and August of that year.    \n",
    "- Many retail investors have used the popular Robinhood online brokerage to get started. Their median age is 31.\n",
    "- Combined, there are over 100 million users/accounts at just six of the most popular online brokerages for retail investors.\n",
    "\n",
    "\n",
    "Models use: \n",
    " - sklearn.feature_selection: Train_Test_Split\n",
    " - sklearn.feature_selection: Recursive Feature Elimination\n",
    " - LogisticRegression Model\n",
    " - sklearn.metrics: Confusion Matrix \n",
    " - sklearn.metrics: Plot Roc Curve \n",
    " - sklearn.model_selection: Cross Val Score\n",
    " - sklearn.model_selection: GridSearchCV\n"
   ]
  },
  {
   "cell_type": "markdown",
   "metadata": {},
   "source": [
    "[Back to top](#Table-of-contents)"
   ]
  },
  {
   "cell_type": "markdown",
   "metadata": {},
   "source": [
    "## 3. Project description\n",
    "\n",
    "Describe your project.\n",
    "\n",
    "This project will take 4 valuation metrics that are influential in determining a equity's annual return.  The equity annual return will be converted to and discrete variable to employ a logistical Regression analysis on this data set. this analysis will provide a predicative capability of classifying returns based on 4 valuation metrics.\n",
    "\n",
    "*Detail information is presented in the slides.\n",
    "\n"
   ]
  },
  {
   "cell_type": "markdown",
   "metadata": {},
   "source": [
    "### 3.1 Hypothesis\n",
    "\n",
    "What are the hypothesis that drive your project?\n",
    "\n",
    "\n",
    "\n",
    "**Hypothesis:**  \n",
    "\n",
    "*µ = annual holding period return* \n",
    "\n",
    "- *Ho: µ  < 5% return = 0*\n",
    "\n",
    "- *Hø: µ  > 5% return = 1* \n",
    "    \n",
    "\n",
    "\n",
    "*We accept the null hypothesis if the selected valuation metrics results to a µ return below 5%*\n",
    "    \n",
    "*We reject the null hypothesis if the selected valuation metrics results to a µ return above 5%.*\n",
    "\n",
    "[Back to top](#Table-of-contents)"
   ]
  },
  {
   "cell_type": "markdown",
   "metadata": {},
   "source": [
    "## 3.2 Workflow"
   ]
  },
  {
   "cell_type": "markdown",
   "metadata": {},
   "source": [
    "### _**Defining the problems**_\n",
    "\n",
    "New investor inability to recognize good investment opportunity when constructing an investment plan. This inability has resulted to retail investors underperforming the benchmark index year over year.  Below we've highlighted five **fundamental concepts and its' background context** of the problem contributing to retail investors' underperformance.\n",
    "- **Inexperience**: with the rise of new trading platforms that target retail investor the amount of inexperience investor participation in capital markets have increased exponentially.\n",
    "- **No defined starting point on select good investment**: the extraordinary amount of useless and bad information on the internet is the root cause of investors making bad investment decision. \n",
    "- **Limited accessibility to useful and help investment strategies**: most of the effective and proven investment techniques requires large amount of investment capital\n",
    "- **No reliable source that new investor can trust**: retail investors are targeted by social media investor and traditional investment firms taunting explicitly and implicitly return investor can achieve. This excessive amount of unreliable information result to bad decision on the part of retail investors.\n",
    "\n",
    "_**How can this problem be solved with data science**_:\n",
    "This problem can be solved by offering new investor a simple and understandable investment approach in determining which valuation metrics to concentrate on when making his or her first major investment. In the context of data science, this problem can be solved through logistical regression modeling by binarizing returns as 1 for returns 5% or more and 0 for returns 5% or less. The predictors used in this model will be valuation metrics from each company's financial report, which can give an indication of which metrics influence an equity's return regardless of sector.\n"
   ]
  },
  {
   "cell_type": "markdown",
   "metadata": {},
   "source": [
    "### _**Map the System**_ "
   ]
  },
  {
   "cell_type": "markdown",
   "metadata": {},
   "source": [
    "_**Logistic of sigmoud function**_\n",
    "\n",
    "A logistic regression equation acts as a fitting function of the Linear Model (intercepts and slopes) that consisting of 4 valuations metric or parameters in determining the probability of and stock returns being greater than 5% or less than 5%.  The Logistic model works as a binary classifier by categorizing the target variable returns depending on how meaningful the coefficient is in predicting returns."
   ]
  },
  {
   "cell_type": "markdown",
   "metadata": {},
   "source": [
    "_**Below is the logistic function equation and general form of the Sigmoid function**_"
   ]
  },
  {
   "cell_type": "code",
   "execution_count": 756,
   "metadata": {
    "jupyter": {
     "source_hidden": true
    }
   },
   "outputs": [
    {
     "data": {
      "image/png": "[encoded data removed]",
      "text/plain": [
       "<Figure size 432x288 with 1 Axes>"
      ]
     },
     "metadata": {
      "needs_background": "light"
     },
     "output_type": "display_data"
    }
   ],
   "source": [
    "def sigmoid(x):\n",
    "    return 1 / (1 + np.exp(-x))\n",
    "\n",
    "x = np.arange(-10., 10, .20)\n",
    "y = sigmoid(x)\n",
    "\n",
    "plt.plot(x,y)\n",
    "plt.xlim(-10, 10)\n",
    "plt.title(\"Sigmoid Function\")\n",
    "plt.grid(which='major',linestyle=\"--\",linewidth=.30)\n",
    "plt.savefig('Model_Final/figure.jpg')\n",
    "plt.show()"
   ]
  },
  {
   "cell_type": "markdown",
   "metadata": {},
   "source": [
    "$\n",
    "f(x) = \\frac{e^x}{1+e^x}\n",
    "$"
   ]
  },
  {
   "cell_type": "markdown",
   "metadata": {},
   "source": [
    "**Projects equation in the context of a Logistical Function**"
   ]
  },
  {
   "cell_type": "markdown",
   "metadata": {},
   "source": [
    "\n",
    "\n",
    "${\\scriptsize \\begin{multline}\n",
    "  {\\operatorname{P}(\\text{return} > 5 \\mid \\text{Valuation Metric})}\n",
    " = \\frac{\\exp(\\beta_{0} + \\beta_{1} \\text{Valuation Metric} + \\beta_{2} \\text{Valuation Metric} + \\beta_{3} \\text{Valuation Metric} + \\beta_{4} \\text{Valuation Metric})} {1 + \\exp(\\beta_{0} + \\beta_{1} \\text{Valuation Metric} + \\beta_{2} \\text{Valuation Metric} + \\beta_{3}\\text{Valuation Metric} + \\beta_{4} \\text{Valuation Metric})} \\label{eq:glm1} \n",
    "\\end{multline}}$\n",
    "\n"
   ]
  },
  {
   "cell_type": "markdown",
   "metadata": {},
   "source": [
    "## _**Define suitable metrics**_"
   ]
  },
  {
   "cell_type": "code",
   "execution_count": 679,
   "metadata": {},
   "outputs": [],
   "source": [
    "data[\"leverage_ratio\"] = data['Total Assets']/data[\"Total Equity\"]"
   ]
  },
  {
   "cell_type": "code",
   "execution_count": null,
   "metadata": {},
   "outputs": [],
   "source": [
    "data['debt_to_assets'] = data['Total Liabilities'] / data['Total Assets']"
   ]
  },
  {
   "cell_type": "code",
   "execution_count": null,
   "metadata": {},
   "outputs": [],
   "source": [
    "ds['debt_to_equity'] = data[\"Total Liabilities\"] / data[\"Total Equity\"]"
   ]
  },
  {
   "cell_type": "code",
   "execution_count": null,
   "metadata": {},
   "outputs": [],
   "source": [
    "data['ROA'] = data_test['Net Income'] / data[\"Total Assets\"]"
   ]
  },
  {
   "cell_type": "code",
   "execution_count": 937,
   "metadata": {},
   "outputs": [],
   "source": [
    "def dollar_conversion(ds, feature):\n",
    "    \"\"\"Converts the column in million dollar terms\n",
    "    param: \n",
    "    param:\n",
    "    \n",
    "    return\"\"\"\n",
    "    ds[feature] = ds[feature] / 1000000"
   ]
  },
  {
   "cell_type": "code",
   "execution_count": 945,
   "metadata": {},
   "outputs": [],
   "source": [
    "def drop_columns(ds, *column):\n",
    "    '''Drops a columns in a dataset\n",
    "    \n",
    "    param: ds: dataset name\n",
    "    param: *columns: columsn to be dropped\n",
    "    \n",
    "    returns: a new dataset with the selected columns removed'''\n",
    "    \n",
    "    return ds.drop([*column],axis=1, inplace=True)"
   ]
  },
  {
   "cell_type": "code",
   "execution_count": 946,
   "metadata": {},
   "outputs": [],
   "source": [
    "def column_rename(ds, column1, column2):\n",
    "    \n",
    "    '''rename columns in a dataset\n",
    "    \n",
    "    param: ds: dataset name\n",
    "    param: column1: original column name\n",
    "    param: column2: new column name\n",
    "    \n",
    "    returns: the adjust name of a column to the users preference'''\n",
    "    \n",
    "    return ds.rename({column1 : column2}, axis=1, inplace=True)"
   ]
  },
  {
   "cell_type": "code",
   "execution_count": 947,
   "metadata": {},
   "outputs": [],
   "source": [
    "def eda_column(ds,*feature):\n",
    "    '''ouputs histogram visualization and statistical \n",
    "    data of the user desired features from a selected dataset'''\n",
    "    \n",
    "    eda = ds[[*feature]].describe()\n",
    "    ds[[*feature]].hist(bins=70)\n",
    "    plt.figure(figsize=(10,10))\n",
    "    plt.show()\n",
    "    return eda\n",
    "    \n",
    "    '''\n",
    "    param: ds: dataset name\n",
    "    \n",
    "    param: feature: feature name\n",
    "    \n",
    "    returns: histogram and statistical data'''\n",
    "    \n",
    "    "
   ]
  },
  {
   "cell_type": "code",
   "execution_count": 950,
   "metadata": {},
   "outputs": [],
   "source": [
    "def zero_columns(ds,features):\n",
    "    \"\"\"\n",
    "    param: ds: dataset name\n",
    "    param: feature: column name\"\"\"\n",
    "    \n",
    "    \n",
    "    for i, k in ds.iterrows():\n",
    "        list = k[features]\n",
    "        if list == 0:\n",
    "            x = [list]\n",
    "            print(i,x)\n",
    "            \n",
    "    \"\"\"return: the number of zero observation column/feature \"\"\""
   ]
  },
  {
   "cell_type": "code",
   "execution_count": 951,
   "metadata": {},
   "outputs": [],
   "source": [
    "def row_drop(ds, *rows):\n",
    "    '''drops unecessary rows\n",
    "   \n",
    "    param: ds: dataset name\n",
    "    param: rows: input of rows to be  removed\n",
    "    \n",
    "    returns: a new dataset with the exception of unecessary rows '''\n",
    "    return ds.drop(labels=[*rows], inplace=True)"
   ]
  },
  {
   "cell_type": "code",
   "execution_count": 949,
   "metadata": {},
   "outputs": [],
   "source": [
    "def zero_count(ds):\n",
    "    \"\"\"\n",
    "    param: ds: name of the DataFrame\n",
    "    \n",
    "    return: the number of 0 observation in a dataset\"\"\"\n",
    "    return (ds == 0).sum(axis=0)"
   ]
  },
  {
   "cell_type": "code",
   "execution_count": 805,
   "metadata": {},
   "outputs": [],
   "source": [
    "def value_imput(ds,feature):\n",
    "    \"\"\"     \n",
    "    param: ds: name of the DataFrame\n",
    "    param: feature: name of the column to engineer\n",
    "    \n",
    "    returns: fills in all zero observation in a column with an random interger\n",
    "    between the range of the max and min of the column \"\"\"\n",
    "    \n",
    "    return\n",
    "    for i, k in ds.iterrows():\n",
    "        list = k[feature]\n",
    "        if list == 0:\n",
    "            x = [list]\n",
    "            min_num = ds[feature][ds[feature] != 0].min()\n",
    "            max_num = ds[feature][ds[feature] != 0].max()\n",
    "            ds[feature][i] = np.random.randint(min_num, max_num)"
   ]
  },
  {
   "cell_type": "markdown",
   "metadata": {},
   "source": [
    "### _**Selection of Modeling Tools**_"
   ]
  },
  {
   "cell_type": "markdown",
   "metadata": {},
   "source": [
    "_**Logistic Regression**_"
   ]
  },
  {
   "cell_type": "code",
   "execution_count": null,
   "metadata": {},
   "outputs": [],
   "source": [
    "from sklearn.linear_model import LogisticRegression"
   ]
  },
  {
   "cell_type": "markdown",
   "metadata": {},
   "source": [
    "_**Recursive Feature Selction**_"
   ]
  },
  {
   "cell_type": "code",
   "execution_count": null,
   "metadata": {},
   "outputs": [],
   "source": [
    "from sklearn.feature_selection import RFE"
   ]
  },
  {
   "cell_type": "markdown",
   "metadata": {},
   "source": [
    "_**Train Test Split**_"
   ]
  },
  {
   "cell_type": "code",
   "execution_count": null,
   "metadata": {},
   "outputs": [],
   "source": [
    "from sklearn.model_selection import train_test_split"
   ]
  },
  {
   "cell_type": "markdown",
   "metadata": {},
   "source": [
    "_**K-Fold**_"
   ]
  },
  {
   "cell_type": "code",
   "execution_count": null,
   "metadata": {},
   "outputs": [],
   "source": [
    "from sklearn.model_selection import cross_val_score"
   ]
  },
  {
   "cell_type": "markdown",
   "metadata": {},
   "source": [
    "_**Tunning Hyperparameter**_"
   ]
  },
  {
   "cell_type": "code",
   "execution_count": null,
   "metadata": {},
   "outputs": [],
   "source": [
    "from sklearn.model_selection import GridSearchCV"
   ]
  },
  {
   "cell_type": "markdown",
   "metadata": {},
   "source": [
    "### _**Model Implementation and Evaluation**_ "
   ]
  },
  {
   "cell_type": "markdown",
   "metadata": {},
   "source": [
    "_**Assigning the \"X\" variables and 'y' variables to the appropriate dataset for implementing the model.**_ "
   ]
  },
  {
   "cell_type": "code",
   "execution_count": 328,
   "metadata": {},
   "outputs": [],
   "source": [
    "project_X = project[['Liabilities','Accounts Receivable','volume','avg_price', 'Earnings Per Share',\n",
    "                     'Long-Term Investments','Capital Expenditures','Operating Margin','Profit Margin','Investments',]] \n",
    "\n",
    "project_y = project['rtn_2015']\n",
    "\n"
   ]
  },
  {
   "cell_type": "markdown",
   "metadata": {},
   "source": [
    "_**Model**_\n",
    "- Intial Model with **no additional refinements** to the **Hyperparameters** or **elimination of the projects features**."
   ]
  },
  {
   "cell_type": "code",
   "execution_count": 868,
   "metadata": {},
   "outputs": [],
   "source": [
    "trainX, testX, trainy, testy = train_test_split(project_X, project_y, test_size=.20, random_state=1978)\n",
    "\n",
    "model = LogisticRegression(solver='sag')\n",
    "\n",
    "model.fit(trainX,trainy)\n",
    "\n",
    "prediction = model.predict(testX)"
   ]
  },
  {
   "cell_type": "code",
   "execution_count": 1458,
   "metadata": {},
   "outputs": [
    {
     "name": "stdout",
     "output_type": "stream",
     "text": [
      "Accuracy Rate of Model1: 0.6923076923076923\n"
     ]
    }
   ],
   "source": [
    "accuracy = model.score(testX, testy)\n",
    "\n",
    "print('Accuracy Rate of Model1:', accuracy)"
   ]
  },
  {
   "cell_type": "markdown",
   "metadata": {},
   "source": [
    "-----------------------------------------------------Model_2-----------------------------------------------------------------------------"
   ]
  },
  {
   "cell_type": "markdown",
   "metadata": {},
   "source": [
    "_**Tunning our Hyperparameters: for the model_2 will employe the GridSearchCV model in distinguising among the hyperparameters that yield a higher accuracy score for our datasets**_\n",
    "_**The parameter in focus for this stage of the model are:**_\n",
    "\n",
    "- *Penalty - (L1','L2'): regularization technique, L1: Lasso Regression methods and L2 Ridge Regression. These hyperparameter prevents the model from overfiting by adding a regularization term to the algorithms \"loss function\" equation. Loss function is the difference from the predicted algorithm ouptput and and expected dataset output.*\n",
    "\n",
    "    - $L1 = Error(Y - \\widehat{Y}) + \\lambda \\sum_1^n |w_i|$ Lasso Regression\n",
    "\n",
    "    - $L2 = Error(Y - \\widehat{Y}) +  \\lambda \\sum_1^n w_i^{2}$ Ridge Regression\n",
    "\n",
    "- *Solver - (linear','saga', 'sag','lbfgs): are the algorithms to optimize the model. The optimizer performance capacity can be dictated by the L2 or L1 regularization terms and the size of the dataset.*\n",
    "\n",
    "Latex function was a reference from github: https://github.com/blmoistawinde/ml_equations_latex#l1-regularization"
   ]
  },
  {
   "cell_type": "markdown",
   "metadata": {},
   "source": [
    "**K-Fold cross validation** *test on the model without adjustment to dataset's features set and hyperparameter of Logistical Regression model.\n",
    "When the model is cross validated 5 times on a raw set of data it yeilds a performance in the 50 to 60 % range*\n",
    "*This Cross Validation method provides a objective analysis of the model's accuracy with minimal selected baises imposed by the dataset.  The results of this Cross Validation indicates an needed adjustment to the features selected and the Hyperparameters used in the models algorithm. The utimate goal is to improve our moedels performance.*\n",
    "\n",
    "**K-Fold Cross Validation** *test is performed on the dataset below*"
   ]
  },
  {
   "cell_type": "code",
   "execution_count": 1381,
   "metadata": {},
   "outputs": [
    {
     "name": "stdout",
     "output_type": "stream",
     "text": [
      "K-Fold Cross Validation of model accuracy: [0.54761905 0.51219512 0.56097561 0.6097561  0.53658537]\n"
     ]
    }
   ],
   "source": [
    "cv_project_10 = cross_val_score(estimator=model, X=trainX, y=trainy, cv=5)\n",
    "\n",
    "print('K-Fold Cross Validation of model accuracy:', cv_project_10)"
   ]
  },
  {
   "cell_type": "markdown",
   "metadata": {},
   "source": [
    "**Recursive Feature Elimination** *yields liabilities, account receiveable,average price and capital expenditures as the most impactful features in our project's dataset*"
   ]
  },
  {
   "cell_type": "code",
   "execution_count": 1383,
   "metadata": {},
   "outputs": [],
   "source": [
    "model_rfe= LogisticRegression(solver = 'sag')\n",
    "\n",
    "rfe = RFE(model_rfe, n_features_to_select=4)\n",
    "\n",
    "rfe.fit(project_X,project_y)\n",
    "\n",
    "project_X[project_X.columns[rfe.support_]].head().to_excel('output.xlsx')"
   ]
  },
  {
   "cell_type": "markdown",
   "metadata": {},
   "source": [
    "**Grid Search model_2** *finds the best hyperparameters for the model, after implementing recursive feauture elimination when testing the new dataset.*\n",
    "- \"P\" specifies the parameters to be tested in the estimator. The estimator is the source of the specified model to test the param grid of p.\n",
    "- In this model we're searching for best accuracy score by using the designate parameter 'p' in the parameter grid input. \n",
    "- Cv determines how the data is to be split. \n",
    "- iid directs GridSearch model to  return a score from cross validation grid search over the parameters of the esitmator. \n",
    "\n",
    "*Below is the GridSearch Cross Validation model being tested on the listed 'p' parameters for a specfied estimator. In this model Logistical Regression is the model being optimized to enhance the predicative capability of determinig a eqiuties return given 4 valuation metrics*"
   ]
  },
  {
   "cell_type": "code",
   "execution_count": 1459,
   "metadata": {},
   "outputs": [
    {
     "data": {
      "text/plain": [
       "GridSearchCV(cv=10,\n",
       "             estimator=LogisticRegression(random_state=1978, solver='sag'),\n",
       "             iid=True, n_jobs=-1,\n",
       "             param_grid=[{'C': [0.1, 0.25, 0.5, 0.7, 1],\n",
       "                          'penalty': ['l1', 'l2'],\n",
       "                          'solver': ['linear', 'saga', 'sag', 'lbfgs']}],\n",
       "             scoring='accuracy')"
      ]
     },
     "execution_count": 1459,
     "metadata": {},
     "output_type": "execute_result"
    }
   ],
   "source": [
    "p = [{'C':[0.1,0.25,.50,.70,1], \"penalty\":['l1','l2'],\"solver\":['linear','saga', 'sag','lbfgs']}]\n",
    "\n",
    "gs_project_10 = GridSearchCV(estimator=model_2, param_grid=p, scoring='accuracy', cv=10, n_jobs=-1, iid=True)\n",
    "\n",
    "project_grid_search = gs_project_10.fit(train_X, train_y)\n",
    "\n",
    "project_grid_search"
   ]
  },
  {
   "cell_type": "markdown",
   "metadata": {},
   "source": [
    "*The best score for the set of parameter used in the designated estimator is 64%*"
   ]
  },
  {
   "cell_type": "code",
   "execution_count": 888,
   "metadata": {},
   "outputs": [
    {
     "data": {
      "text/plain": [
       "0.6407766990291263"
      ]
     },
     "execution_count": 888,
     "metadata": {},
     "output_type": "execute_result"
    }
   ],
   "source": [
    "project_10_best = project_grid_search.best_score_\n",
    "project_10_best"
   ]
  },
  {
   "cell_type": "markdown",
   "metadata": {},
   "source": [
    "*Penalty of L2 and Solver of sag will be used in the new Logistical Regression model*"
   ]
  },
  {
   "cell_type": "code",
   "execution_count": 689,
   "metadata": {},
   "outputs": [
    {
     "data": {
      "text/plain": [
       "{'C': 0.1, 'penalty': 'l2', 'solver': 'sag'}"
      ]
     },
     "execution_count": 689,
     "metadata": {},
     "output_type": "execute_result"
    }
   ],
   "source": [
    "project_10_parameters = project_grid_search.best_params_\n",
    "\n",
    "project_10_parameters"
   ]
  },
  {
   "cell_type": "markdown",
   "metadata": {},
   "source": [
    "### _**Evaluate modesl**_ "
   ]
  },
  {
   "cell_type": "code",
   "execution_count": 874,
   "metadata": {},
   "outputs": [],
   "source": [
    "from sklearn.metrics import confusion_matrix\n",
    "\n",
    "from sklearn.metrics import plot_roc_curve"
   ]
  },
  {
   "cell_type": "markdown",
   "metadata": {},
   "source": [
    "#### Model Performance Measure\n",
    "\n",
    "*Accuracy evaluation for model with all 10 selected features prior to Recursive Feature Elimination and Hyperparamter Tuning*"
   ]
  },
  {
   "cell_type": "code",
   "execution_count": 1378,
   "metadata": {},
   "outputs": [
    {
     "name": "stdout",
     "output_type": "stream",
     "text": [
      "Accuracy Rate of Model1: 0.6923076923076923\n"
     ]
    }
   ],
   "source": [
    "accuracy = model.score(testX, testy)\n",
    "\n",
    "print('Accuracy Rate of Model1:', accuracy)"
   ]
  },
  {
   "cell_type": "markdown",
   "metadata": {},
   "source": [
    "#### Model_2\n",
    "_**Accuracy evaluation for model_2 with 4 selected features (designated by the RFE Model) and Hyperparamter Tuning (designated by GridSearchCV Model)**_\n",
    "\n",
    "* This final model has the capacity to classify and equity probable performance base on 4 valuation metrics, liabilities, account receiveable, capital expenditures and average price, with a 75 percent accuracy level. As previously mention, the purpose of this model is to be a supplemental source in eliminating equity candidates prior to commitmenting capital. However, additional due dilligence is need when considering an equity valuation to its industry peers. \n",
    "\n",
    "_**Model_2 performance measure is at an accuracy level of 75 percent.**_"
   ]
  },
  {
   "cell_type": "code",
   "execution_count": 872,
   "metadata": {},
   "outputs": [
    {
     "name": "stdout",
     "output_type": "stream",
     "text": [
      "Accuracy Rate of Model1: 0.75\n"
     ]
    }
   ],
   "source": [
    "accuracy_2 = model_2.score(test_X,test_y)\n",
    "print('Accuracy Rate of Model1:', accuracy_2)"
   ]
  },
  {
   "cell_type": "markdown",
   "metadata": {},
   "source": [
    "_**Model Performance improvement**_"
   ]
  },
  {
   "cell_type": "code",
   "execution_count": 718,
   "metadata": {},
   "outputs": [
    {
     "name": "stdout",
     "output_type": "stream",
     "text": [
      "When tuning our hyperparameter  we were able to increase the performance of our logictical model 5.769230769230771\n"
     ]
    }
   ],
   "source": [
    "print('When tuning our hyperparameter we were able to increase the performance of our logictical model', \n",
    "      (accuracy_2-accuracy) * 100)"
   ]
  },
  {
   "cell_type": "markdown",
   "metadata": {},
   "source": [
    "_**The Models ROC Curve**_\n",
    "\n",
    "- Receiver Operation Curver - Area under the curve evaluation"
   ]
  },
  {
   "cell_type": "code",
   "execution_count": 1464,
   "metadata": {},
   "outputs": [
    {
     "data": {
      "image/png": "[encoded data removed]",
      "text/plain": [
       "<Figure size 432x288 with 1 Axes>"
      ]
     },
     "metadata": {
      "needs_background": "light"
     },
     "output_type": "display_data"
    }
   ],
   "source": [
    "from sklearn.metrics import plot_roc_curve\n",
    "\n",
    "plot_roc_curve(model, testX, testy)\n",
    "\n",
    "plt.plot([0, 1], [0, 1], 'r--')\n",
    "\n",
    "plt.savefig('Model_Final/figure.jpg')\n",
    "\n",
    "plt.show()\n",
    "\n",
    "# The ROC AUC curve for the model with no refinements have a consistent accuracy in classifying a equity at each threshold level. "
   ]
  },
  {
   "cell_type": "code",
   "execution_count": 1473,
   "metadata": {},
   "outputs": [
    {
     "data": {
      "image/png": "[encoded data removed]",
      "text/plain": [
       "<Figure size 432x288 with 1 Axes>"
      ]
     },
     "metadata": {
      "needs_background": "light"
     },
     "output_type": "display_data"
    }
   ],
   "source": [
    "from sklearn.metrics import plot_roc_curve\n",
    "\n",
    "plot_roc_curve(model_2, test_X, test_y)\n",
    "\n",
    "plt.plot([0, 1], [0, 1], 'r--')\n",
    "\n",
    "plt.savefig('Model_Final/figure.jpg')\n",
    "\n",
    "plt.show()\n",
    "\n",
    "# The ROC AUC for the optimized model_2 shows a increasing accuracay of classifying and equity at various thresholds. "
   ]
  },
  {
   "cell_type": "markdown",
   "metadata": {},
   "source": [
    "_**Confustion Matrix for the Model with out parameters or feature refinement**_"
   ]
  },
  {
   "cell_type": "code",
   "execution_count": 1475,
   "metadata": {},
   "outputs": [
    {
     "data": {
      "image/png": "[encoded data removed]",
      "text/plain": [
       "<Figure size 720x432 with 2 Axes>"
      ]
     },
     "metadata": {
      "needs_background": "light"
     },
     "output_type": "display_data"
    }
   ],
   "source": [
    "from pylab import *\n",
    "\n",
    "from sklearn.metrics import confusion_matrix\n",
    "\n",
    "fig = plt.figure(figsize=(10,6))\n",
    "\n",
    "cm = confusion_matrix(testy, prediction)\n",
    "\n",
    "ax = plt.subplot()\n",
    "\n",
    "sns.heatmap(cm, annot=True, ax=ax, linewidth=1.2, cmap='Greys')\n",
    "\n",
    "ax.set_xlabel('Predicted Labels');ax.set_ylabel('True Labels');\n",
    "\n",
    "ax.set_title('Confusion Matrix');\n",
    "\n",
    "ax.xaxis.set_ticklabels(['rtn greater 5%', 'rtn less 5%']);ax.yaxis.set_ticklabels(['rtn greater 5%', 'rtn less 5%']);\n",
    "\n",
    "plt.savefig('Model_Final/figure.jpg')\n",
    "\n",
    "plt.show()"
   ]
  },
  {
   "cell_type": "markdown",
   "metadata": {},
   "source": [
    "_**Confustion Matrix for the Model_2 with parameters and feature refinement**_"
   ]
  },
  {
   "cell_type": "code",
   "execution_count": 1457,
   "metadata": {},
   "outputs": [
    {
     "data": {
      "image/png": "[encoded data removed]",
      "text/plain": [
       "<Figure size 720x432 with 2 Axes>"
      ]
     },
     "metadata": {
      "needs_background": "light"
     },
     "output_type": "display_data"
    }
   ],
   "source": [
    "from pylab import *\n",
    "\n",
    "from sklearn.metrics import confusion_matrix\n",
    "\n",
    "fig = plt.figure(figsize=(10,6))\n",
    "\n",
    "cm = confusion_matrix(test_y, prediction2)\n",
    "\n",
    "ax = plt.subplot()\n",
    "\n",
    "sns.heatmap(cm, annot=True, ax=ax, linewidth=1.2, cmap='Greys')\n",
    "\n",
    "ax.set_xlabel('Predicted Labels');ax.set_ylabel('True Labels');\n",
    "\n",
    "ax.set_title('Confusion Matrix');\n",
    "\n",
    "ax.xaxis.set_ticklabels(['rtn greater 5%', 'rtn less 5%']);ax.yaxis.set_ticklabels(['rtn greater 5%', 'rtn less 5%']);\n",
    "\n",
    "figtext(.90, .80, \"This confusion matrix shows the numerical amount of correct prediction and incorrect predictions by the project's model.\\n- Rtn greater than 5% shows 24 correct predictions.\\n- Rtn less than 5% shows 15 correct predictions\")\n",
    "\n",
    "plt.savefig('Model_Final/figure.jpg')\n",
    "\n",
    "plt.show()\n"
   ]
  },
  {
   "cell_type": "markdown",
   "metadata": {},
   "source": [
    "### _**Deploy the final model**_ "
   ]
  },
  {
   "cell_type": "markdown",
   "metadata": {},
   "source": [
    "_**Model_2: Recursive Feature Elimination: n_select = 4 features along with Tuning of Hyperparamters**_"
   ]
  },
  {
   "cell_type": "code",
   "execution_count": 643,
   "metadata": {},
   "outputs": [],
   "source": [
    "project_X = project[['Liabilities','Accounts Receivable','volume','avg_price', 'Earnings Per Share',\n",
    "                     'Long-Term Investments','Capital Expenditures','Operating Margin','Profit Margin','Investments']] \n",
    "\n",
    "project_y = project['rtn_2015']\n",
    "\n"
   ]
  },
  {
   "cell_type": "markdown",
   "metadata": {},
   "source": [
    "_**Final Model**_\n",
    "- Final model with additional refinements to the Hyperparameters and feature elmination delivers an improvement in model accuracy."
   ]
  },
  {
   "cell_type": "code",
   "execution_count": 682,
   "metadata": {},
   "outputs": [],
   "source": [
    "model_rfe= LogisticRegression(solver = 'sag')\n",
    "\n",
    "rfe = RFE(model_rfe, n_features_to_select=4)\n",
    "\n",
    "rfe.fit(project_X,project_y)\n",
    "\n",
    "project_X_selected = project_X[project_X.columns[rfe.support_]]\n",
    "\n",
    "train_X, test_X, train_y, test_y = train_test_split(project_X_selected, project_y, test_size=.20, random_state=1978)\n",
    "\n",
    "model_2 = LogisticRegression(solver='sag', C=1.0, penalty='l2', random_state=1978)\n",
    "\n",
    "model_2.fit(train_X,train_y)\n",
    "\n",
    "prediction2 = model_2.predict(test_X)"
   ]
  },
  {
   "cell_type": "code",
   "execution_count": 690,
   "metadata": {},
   "outputs": [
    {
     "name": "stdout",
     "output_type": "stream",
     "text": [
      "Accuracy Rate of Model1: 0.75\n"
     ]
    }
   ],
   "source": [
    "accuracy_2 = model_2.score(test_X,test_y)\n",
    "print('Accuracy Rate of Model1:', accuracy_2)"
   ]
  },
  {
   "cell_type": "code",
   "execution_count": null,
   "metadata": {},
   "outputs": [],
   "source": [
    "[Back to top](#Table-of-contents)"
   ]
  },
  {
   "cell_type": "markdown",
   "metadata": {},
   "source": [
    "### 3.3 Methods\n",
    "\n",
    "What mathematical and computational methods are you using?\n"
   ]
  },
  {
   "cell_type": "markdown",
   "metadata": {},
   "source": [
    "_**Leverage Ratio:**_\n",
    "Measures the amount of asset support for each unit of equity. A ratio of 3 indicates that one unit of equity supports 3 units of assets. A higher ratio indicates and higher amount of leverage, meaning the company uses a large amount of debt and liabilities to finance their operations."
   ]
  },
  {
   "cell_type": "markdown",
   "metadata": {},
   "source": [
    "_**Debt-to-Equity:**_\n",
    "measures the amount of debt realtive to the company's equity.  the higher this ratio indicates a weaker solvency\n"
   ]
  },
  {
   "cell_type": "markdown",
   "metadata": {},
   "source": [
    "_**Cash Ratio:**_\n",
    "Measures a company liqudity strenth in the event of a crisis. A higher ratio indicates a stronger liquidity capacity."
   ]
  },
  {
   "cell_type": "markdown",
   "metadata": {},
   "source": [
    "_**Curent Ratio**_:\n",
    "measures current assets to current liabilities. A higher ratio indicate a higher liquidity position"
   ]
  },
  {
   "cell_type": "markdown",
   "metadata": {},
   "source": [
    "_**Debt-to-Assets:**_\n",
    "measuse the amount of assets financed with debt. a ratio of .90 indicates a company uses 90 percent of debt to finance its assets. the higher the ratio the weaker solvency of the company."
   ]
  },
  {
   "cell_type": "markdown",
   "metadata": {},
   "source": [
    "_**Return on Assets (ROA):**_\n",
    "measures the return the company earns on its assets. higher the ratio mor income generated by a company\n",
    "\n"
   ]
  },
  {
   "cell_type": "markdown",
   "metadata": {},
   "source": [
    "[Back to top](#Table-of-contents)"
   ]
  },
  {
   "cell_type": "markdown",
   "metadata": {},
   "source": [
    "### 3.4 Analysis \n",
    "\n",
    "#### Data Sets:\n",
    "\n",
    "*Section consist of cleaning the datasets in preparation of fitting the dataset to the **Linear Regression Model**.*\n",
    "datasets: \n",
    "- metrics: Valuation Metrics - in millions format\n",
    "- equity: description of each equity observation for each sector\n",
    "- price: Annual price movement for equity\n",
    "\n",
    "Spend some time analysing your models, data and processes."
   ]
  },
  {
   "cell_type": "code",
   "execution_count": 504,
   "metadata": {},
   "outputs": [],
   "source": [
    "import warnings\n",
    "\n",
    "warnings.filterwarnings(\"ignore\")\n",
    "\n",
    "import numpy as np\n",
    "\n",
    "import pandas as pd\n",
    "\n",
    "import matplotlib.pyplot as plt\n",
    "\n",
    "import plotly.express as px\n",
    "\n",
    "import seaborn as sns\n",
    "\n",
    "pd.set_option('display.max_rows', 505)"
   ]
  },
  {
   "cell_type": "code",
   "execution_count": 100,
   "metadata": {},
   "outputs": [],
   "source": [
    "metrics = pd.read_csv('fundamentals.csv')"
   ]
  },
  {
   "cell_type": "code",
   "execution_count": 101,
   "metadata": {},
   "outputs": [],
   "source": [
    "equity = pd.read_csv('securities.csv')"
   ]
  },
  {
   "cell_type": "code",
   "execution_count": 102,
   "metadata": {},
   "outputs": [],
   "source": [
    "price = pd.read_csv('prices2.csv')"
   ]
  },
  {
   "cell_type": "markdown",
   "metadata": {},
   "source": [
    "----------------"
   ]
  },
  {
   "cell_type": "markdown",
   "metadata": {},
   "source": [
    "#### Metric Dataset Wrangling"
   ]
  },
  {
   "cell_type": "markdown",
   "metadata": {},
   "source": [
    "----------------"
   ]
  },
  {
   "cell_type": "code",
   "execution_count": 103,
   "metadata": {},
   "outputs": [
    {
     "data": {
      "text/html": [
       "<div>\n",
       "<style scoped>\n",
       "    .dataframe tbody tr th:only-of-type {\n",
       "        vertical-align: middle;\n",
       "    }\n",
       "\n",
       "    .dataframe tbody tr th {\n",
       "        vertical-align: top;\n",
       "    }\n",
       "\n",
       "    .dataframe thead th {\n",
       "        text-align: right;\n",
       "    }\n",
       "</style>\n",
       "<table border=\"1\" class=\"dataframe\">\n",
       "  <thead>\n",
       "    <tr style=\"text-align: right;\">\n",
       "      <th></th>\n",
       "      <th>Unnamed: 0</th>\n",
       "      <th>Ticker Symbol</th>\n",
       "      <th>Period Ending</th>\n",
       "      <th>Accounts Payable</th>\n",
       "      <th>Accounts Receivable</th>\n",
       "      <th>Add'l income/expense items</th>\n",
       "      <th>After Tax ROE</th>\n",
       "      <th>Capital Expenditures</th>\n",
       "      <th>Capital Surplus</th>\n",
       "      <th>Cash Ratio</th>\n",
       "      <th>...</th>\n",
       "      <th>Total Current Assets</th>\n",
       "      <th>Total Current Liabilities</th>\n",
       "      <th>Total Equity</th>\n",
       "      <th>Total Liabilities</th>\n",
       "      <th>Total Liabilities &amp; Equity</th>\n",
       "      <th>Total Revenue</th>\n",
       "      <th>Treasury Stock</th>\n",
       "      <th>For Year</th>\n",
       "      <th>Earnings Per Share</th>\n",
       "      <th>Estimated Shares Outstanding</th>\n",
       "    </tr>\n",
       "  </thead>\n",
       "  <tbody>\n",
       "    <tr>\n",
       "      <th>0</th>\n",
       "      <td>0</td>\n",
       "      <td>AAL</td>\n",
       "      <td>12/31/12</td>\n",
       "      <td>3.068000e+09</td>\n",
       "      <td>-222000000</td>\n",
       "      <td>-1961000000</td>\n",
       "      <td>23</td>\n",
       "      <td>-1888000000</td>\n",
       "      <td>4.695000e+09</td>\n",
       "      <td>53.0</td>\n",
       "      <td>...</td>\n",
       "      <td>7.072000e+09</td>\n",
       "      <td>9011000000</td>\n",
       "      <td>-7.987000e+09</td>\n",
       "      <td>2.489100e+10</td>\n",
       "      <td>1.690400e+10</td>\n",
       "      <td>2.485500e+10</td>\n",
       "      <td>-367000000.0</td>\n",
       "      <td>2012.0</td>\n",
       "      <td>-5.60</td>\n",
       "      <td>3.350000e+08</td>\n",
       "    </tr>\n",
       "    <tr>\n",
       "      <th>1</th>\n",
       "      <td>1</td>\n",
       "      <td>AAL</td>\n",
       "      <td>12/31/13</td>\n",
       "      <td>4.975000e+09</td>\n",
       "      <td>-93000000</td>\n",
       "      <td>-2723000000</td>\n",
       "      <td>67</td>\n",
       "      <td>-3114000000</td>\n",
       "      <td>1.059200e+10</td>\n",
       "      <td>75.0</td>\n",
       "      <td>...</td>\n",
       "      <td>1.432300e+10</td>\n",
       "      <td>13806000000</td>\n",
       "      <td>-2.731000e+09</td>\n",
       "      <td>4.500900e+10</td>\n",
       "      <td>4.227800e+10</td>\n",
       "      <td>2.674300e+10</td>\n",
       "      <td>0.0</td>\n",
       "      <td>2013.0</td>\n",
       "      <td>-11.25</td>\n",
       "      <td>1.630222e+08</td>\n",
       "    </tr>\n",
       "    <tr>\n",
       "      <th>2</th>\n",
       "      <td>2</td>\n",
       "      <td>AAL</td>\n",
       "      <td>12/31/14</td>\n",
       "      <td>4.668000e+09</td>\n",
       "      <td>-160000000</td>\n",
       "      <td>-150000000</td>\n",
       "      <td>143</td>\n",
       "      <td>-5311000000</td>\n",
       "      <td>1.513500e+10</td>\n",
       "      <td>60.0</td>\n",
       "      <td>...</td>\n",
       "      <td>1.175000e+10</td>\n",
       "      <td>13404000000</td>\n",
       "      <td>2.021000e+09</td>\n",
       "      <td>4.120400e+10</td>\n",
       "      <td>4.322500e+10</td>\n",
       "      <td>4.265000e+10</td>\n",
       "      <td>0.0</td>\n",
       "      <td>2014.0</td>\n",
       "      <td>4.02</td>\n",
       "      <td>7.169154e+08</td>\n",
       "    </tr>\n",
       "    <tr>\n",
       "      <th>3</th>\n",
       "      <td>3</td>\n",
       "      <td>AAL</td>\n",
       "      <td>12/31/15</td>\n",
       "      <td>5.102000e+09</td>\n",
       "      <td>352000000</td>\n",
       "      <td>-708000000</td>\n",
       "      <td>135</td>\n",
       "      <td>-6151000000</td>\n",
       "      <td>1.159100e+10</td>\n",
       "      <td>51.0</td>\n",
       "      <td>...</td>\n",
       "      <td>9.985000e+09</td>\n",
       "      <td>13605000000</td>\n",
       "      <td>5.635000e+09</td>\n",
       "      <td>4.278000e+10</td>\n",
       "      <td>4.841500e+10</td>\n",
       "      <td>4.099000e+10</td>\n",
       "      <td>0.0</td>\n",
       "      <td>2015.0</td>\n",
       "      <td>11.39</td>\n",
       "      <td>6.681299e+08</td>\n",
       "    </tr>\n",
       "    <tr>\n",
       "      <th>4</th>\n",
       "      <td>4</td>\n",
       "      <td>AAP</td>\n",
       "      <td>12/29/12</td>\n",
       "      <td>2.409453e+09</td>\n",
       "      <td>-89482000</td>\n",
       "      <td>600000</td>\n",
       "      <td>32</td>\n",
       "      <td>-271182000</td>\n",
       "      <td>5.202150e+08</td>\n",
       "      <td>23.0</td>\n",
       "      <td>...</td>\n",
       "      <td>3.184200e+09</td>\n",
       "      <td>2559638000</td>\n",
       "      <td>1.210694e+09</td>\n",
       "      <td>3.403120e+09</td>\n",
       "      <td>4.613814e+09</td>\n",
       "      <td>6.205003e+09</td>\n",
       "      <td>-27095000.0</td>\n",
       "      <td>2012.0</td>\n",
       "      <td>5.29</td>\n",
       "      <td>7.328355e+07</td>\n",
       "    </tr>\n",
       "  </tbody>\n",
       "</table>\n",
       "<p>5 rows × 79 columns</p>\n",
       "</div>"
      ],
      "text/plain": [
       "   Unnamed: 0 Ticker Symbol Period Ending  Accounts Payable  \\\n",
       "0           0           AAL      12/31/12      3.068000e+09   \n",
       "1           1           AAL      12/31/13      4.975000e+09   \n",
       "2           2           AAL      12/31/14      4.668000e+09   \n",
       "3           3           AAL      12/31/15      5.102000e+09   \n",
       "4           4           AAP      12/29/12      2.409453e+09   \n",
       "\n",
       "   Accounts Receivable  Add'l income/expense items  After Tax ROE  \\\n",
       "0           -222000000                 -1961000000             23   \n",
       "1            -93000000                 -2723000000             67   \n",
       "2           -160000000                  -150000000            143   \n",
       "3            352000000                  -708000000            135   \n",
       "4            -89482000                      600000             32   \n",
       "\n",
       "   Capital Expenditures  Capital Surplus  Cash Ratio  ...  \\\n",
       "0           -1888000000     4.695000e+09        53.0  ...   \n",
       "1           -3114000000     1.059200e+10        75.0  ...   \n",
       "2           -5311000000     1.513500e+10        60.0  ...   \n",
       "3           -6151000000     1.159100e+10        51.0  ...   \n",
       "4            -271182000     5.202150e+08        23.0  ...   \n",
       "\n",
       "   Total Current Assets  Total Current Liabilities  Total Equity  \\\n",
       "0          7.072000e+09                 9011000000 -7.987000e+09   \n",
       "1          1.432300e+10                13806000000 -2.731000e+09   \n",
       "2          1.175000e+10                13404000000  2.021000e+09   \n",
       "3          9.985000e+09                13605000000  5.635000e+09   \n",
       "4          3.184200e+09                 2559638000  1.210694e+09   \n",
       "\n",
       "   Total Liabilities  Total Liabilities & Equity  Total Revenue  \\\n",
       "0       2.489100e+10                1.690400e+10   2.485500e+10   \n",
       "1       4.500900e+10                4.227800e+10   2.674300e+10   \n",
       "2       4.120400e+10                4.322500e+10   4.265000e+10   \n",
       "3       4.278000e+10                4.841500e+10   4.099000e+10   \n",
       "4       3.403120e+09                4.613814e+09   6.205003e+09   \n",
       "\n",
       "   Treasury Stock  For Year  Earnings Per Share  Estimated Shares Outstanding  \n",
       "0    -367000000.0    2012.0               -5.60                  3.350000e+08  \n",
       "1             0.0    2013.0              -11.25                  1.630222e+08  \n",
       "2             0.0    2014.0                4.02                  7.169154e+08  \n",
       "3             0.0    2015.0               11.39                  6.681299e+08  \n",
       "4     -27095000.0    2012.0                5.29                  7.328355e+07  \n",
       "\n",
       "[5 rows x 79 columns]"
      ]
     },
     "execution_count": 103,
     "metadata": {},
     "output_type": "execute_result"
    }
   ],
   "source": [
    "metrics.head()"
   ]
  },
  {
   "cell_type": "code",
   "execution_count": 58,
   "metadata": {},
   "outputs": [],
   "source": [
    "Column_to_Change = ['3:6','7:9','10:14','15:24','25:48','49:58','62:76','78:']\n",
    "for i in Column_to_Change: \n",
    "    print(i)\n",
    "print(metrics.info())\n",
    "\n",
    "metrics.iloc[:,62:]\n"
   ]
  },
  {
   "cell_type": "markdown",
   "metadata": {},
   "source": [
    "_**formating the size of the dollar values in millions in the metrics dataset for easier readablility.**_"
   ]
  },
  {
   "cell_type": "code",
   "execution_count": 111,
   "metadata": {},
   "outputs": [
    {
     "data": {
      "text/html": [
       "<div>\n",
       "<style scoped>\n",
       "    .dataframe tbody tr th:only-of-type {\n",
       "        vertical-align: middle;\n",
       "    }\n",
       "\n",
       "    .dataframe tbody tr th {\n",
       "        vertical-align: top;\n",
       "    }\n",
       "\n",
       "    .dataframe thead th {\n",
       "        text-align: right;\n",
       "    }\n",
       "</style>\n",
       "<table border=\"1\" class=\"dataframe\">\n",
       "  <thead>\n",
       "    <tr style=\"text-align: right;\">\n",
       "      <th></th>\n",
       "      <th>Unnamed: 0</th>\n",
       "      <th>Ticker Symbol</th>\n",
       "      <th>Period Ending</th>\n",
       "      <th>Accounts Payable</th>\n",
       "      <th>Accounts Receivable</th>\n",
       "      <th>Add'l income/expense items</th>\n",
       "      <th>After Tax ROE</th>\n",
       "      <th>Capital Expenditures</th>\n",
       "      <th>Capital Surplus</th>\n",
       "      <th>Cash Ratio</th>\n",
       "      <th>...</th>\n",
       "      <th>Total Current Assets</th>\n",
       "      <th>Total Current Liabilities</th>\n",
       "      <th>Total Equity</th>\n",
       "      <th>Total Liabilities</th>\n",
       "      <th>Total Liabilities &amp; Equity</th>\n",
       "      <th>Total Revenue</th>\n",
       "      <th>Treasury Stock</th>\n",
       "      <th>For Year</th>\n",
       "      <th>Earnings Per Share</th>\n",
       "      <th>Estimated Shares Outstanding</th>\n",
       "    </tr>\n",
       "  </thead>\n",
       "  <tbody>\n",
       "    <tr>\n",
       "      <th>0</th>\n",
       "      <td>0</td>\n",
       "      <td>AAL</td>\n",
       "      <td>12/31/12</td>\n",
       "      <td>3068.000</td>\n",
       "      <td>-222.000</td>\n",
       "      <td>-1961.00</td>\n",
       "      <td>23</td>\n",
       "      <td>-1888.000</td>\n",
       "      <td>4695.000</td>\n",
       "      <td>53.0</td>\n",
       "      <td>...</td>\n",
       "      <td>7072.0</td>\n",
       "      <td>9011.000</td>\n",
       "      <td>-7987.000</td>\n",
       "      <td>24891.000</td>\n",
       "      <td>16904.000</td>\n",
       "      <td>24855.000</td>\n",
       "      <td>-367.000</td>\n",
       "      <td>2012.0</td>\n",
       "      <td>-5.60</td>\n",
       "      <td>335.000000</td>\n",
       "    </tr>\n",
       "    <tr>\n",
       "      <th>1</th>\n",
       "      <td>1</td>\n",
       "      <td>AAL</td>\n",
       "      <td>12/31/13</td>\n",
       "      <td>4975.000</td>\n",
       "      <td>-93.000</td>\n",
       "      <td>-2723.00</td>\n",
       "      <td>67</td>\n",
       "      <td>-3114.000</td>\n",
       "      <td>10592.000</td>\n",
       "      <td>75.0</td>\n",
       "      <td>...</td>\n",
       "      <td>14323.0</td>\n",
       "      <td>13806.000</td>\n",
       "      <td>-2731.000</td>\n",
       "      <td>45009.000</td>\n",
       "      <td>42278.000</td>\n",
       "      <td>26743.000</td>\n",
       "      <td>0.000</td>\n",
       "      <td>2013.0</td>\n",
       "      <td>-11.25</td>\n",
       "      <td>163.022222</td>\n",
       "    </tr>\n",
       "    <tr>\n",
       "      <th>2</th>\n",
       "      <td>2</td>\n",
       "      <td>AAL</td>\n",
       "      <td>12/31/14</td>\n",
       "      <td>4668.000</td>\n",
       "      <td>-160.000</td>\n",
       "      <td>-150.00</td>\n",
       "      <td>143</td>\n",
       "      <td>-5311.000</td>\n",
       "      <td>15135.000</td>\n",
       "      <td>60.0</td>\n",
       "      <td>...</td>\n",
       "      <td>11750.0</td>\n",
       "      <td>13404.000</td>\n",
       "      <td>2021.000</td>\n",
       "      <td>41204.000</td>\n",
       "      <td>43225.000</td>\n",
       "      <td>42650.000</td>\n",
       "      <td>0.000</td>\n",
       "      <td>2014.0</td>\n",
       "      <td>4.02</td>\n",
       "      <td>716.915423</td>\n",
       "    </tr>\n",
       "    <tr>\n",
       "      <th>3</th>\n",
       "      <td>3</td>\n",
       "      <td>AAL</td>\n",
       "      <td>12/31/15</td>\n",
       "      <td>5102.000</td>\n",
       "      <td>352.000</td>\n",
       "      <td>-708.00</td>\n",
       "      <td>135</td>\n",
       "      <td>-6151.000</td>\n",
       "      <td>11591.000</td>\n",
       "      <td>51.0</td>\n",
       "      <td>...</td>\n",
       "      <td>9985.0</td>\n",
       "      <td>13605.000</td>\n",
       "      <td>5635.000</td>\n",
       "      <td>42780.000</td>\n",
       "      <td>48415.000</td>\n",
       "      <td>40990.000</td>\n",
       "      <td>0.000</td>\n",
       "      <td>2015.0</td>\n",
       "      <td>11.39</td>\n",
       "      <td>668.129938</td>\n",
       "    </tr>\n",
       "    <tr>\n",
       "      <th>4</th>\n",
       "      <td>4</td>\n",
       "      <td>AAP</td>\n",
       "      <td>12/29/12</td>\n",
       "      <td>2409.453</td>\n",
       "      <td>-89.482</td>\n",
       "      <td>0.60</td>\n",
       "      <td>32</td>\n",
       "      <td>-271.182</td>\n",
       "      <td>520.215</td>\n",
       "      <td>23.0</td>\n",
       "      <td>...</td>\n",
       "      <td>3184.2</td>\n",
       "      <td>2559.638</td>\n",
       "      <td>1210.694</td>\n",
       "      <td>3403.120</td>\n",
       "      <td>4613.814</td>\n",
       "      <td>6205.003</td>\n",
       "      <td>-27.095</td>\n",
       "      <td>2012.0</td>\n",
       "      <td>5.29</td>\n",
       "      <td>73.283554</td>\n",
       "    </tr>\n",
       "    <tr>\n",
       "      <th>...</th>\n",
       "      <td>...</td>\n",
       "      <td>...</td>\n",
       "      <td>...</td>\n",
       "      <td>...</td>\n",
       "      <td>...</td>\n",
       "      <td>...</td>\n",
       "      <td>...</td>\n",
       "      <td>...</td>\n",
       "      <td>...</td>\n",
       "      <td>...</td>\n",
       "      <td>...</td>\n",
       "      <td>...</td>\n",
       "      <td>...</td>\n",
       "      <td>...</td>\n",
       "      <td>...</td>\n",
       "      <td>...</td>\n",
       "      <td>...</td>\n",
       "      <td>...</td>\n",
       "      <td>...</td>\n",
       "      <td>...</td>\n",
       "      <td>...</td>\n",
       "    </tr>\n",
       "    <tr>\n",
       "      <th>1776</th>\n",
       "      <td>1776</td>\n",
       "      <td>ZION</td>\n",
       "      <td>12/31/15</td>\n",
       "      <td>0.000</td>\n",
       "      <td>0.000</td>\n",
       "      <td>-2.53</td>\n",
       "      <td>4</td>\n",
       "      <td>-157.361</td>\n",
       "      <td>0.000</td>\n",
       "      <td>NaN</td>\n",
       "      <td>...</td>\n",
       "      <td>0.0</td>\n",
       "      <td>0.000</td>\n",
       "      <td>7507.519</td>\n",
       "      <td>52162.006</td>\n",
       "      <td>59669.525</td>\n",
       "      <td>2210.591</td>\n",
       "      <td>0.000</td>\n",
       "      <td>2015.0</td>\n",
       "      <td>1.20</td>\n",
       "      <td>257.892500</td>\n",
       "    </tr>\n",
       "    <tr>\n",
       "      <th>1777</th>\n",
       "      <td>1777</td>\n",
       "      <td>ZTS</td>\n",
       "      <td>12/31/13</td>\n",
       "      <td>1381.000</td>\n",
       "      <td>-99.000</td>\n",
       "      <td>9.00</td>\n",
       "      <td>54</td>\n",
       "      <td>-184.000</td>\n",
       "      <td>878.000</td>\n",
       "      <td>43.0</td>\n",
       "      <td>...</td>\n",
       "      <td>3357.0</td>\n",
       "      <td>1415.000</td>\n",
       "      <td>940.000</td>\n",
       "      <td>5618.000</td>\n",
       "      <td>6558.000</td>\n",
       "      <td>4561.000</td>\n",
       "      <td>0.000</td>\n",
       "      <td>2013.0</td>\n",
       "      <td>1.01</td>\n",
       "      <td>499.009901</td>\n",
       "    </tr>\n",
       "    <tr>\n",
       "      <th>1778</th>\n",
       "      <td>1778</td>\n",
       "      <td>ZTS</td>\n",
       "      <td>12/31/14</td>\n",
       "      <td>1071.000</td>\n",
       "      <td>69.000</td>\n",
       "      <td>-7.00</td>\n",
       "      <td>44</td>\n",
       "      <td>-180.000</td>\n",
       "      <td>958.000</td>\n",
       "      <td>81.0</td>\n",
       "      <td>...</td>\n",
       "      <td>3465.0</td>\n",
       "      <td>1086.000</td>\n",
       "      <td>1311.000</td>\n",
       "      <td>5277.000</td>\n",
       "      <td>6588.000</td>\n",
       "      <td>4785.000</td>\n",
       "      <td>0.000</td>\n",
       "      <td>2014.0</td>\n",
       "      <td>1.16</td>\n",
       "      <td>502.586207</td>\n",
       "    </tr>\n",
       "    <tr>\n",
       "      <th>1779</th>\n",
       "      <td>1779</td>\n",
       "      <td>ZTS</td>\n",
       "      <td>12/31/15</td>\n",
       "      <td>1313.000</td>\n",
       "      <td>-58.000</td>\n",
       "      <td>-81.00</td>\n",
       "      <td>32</td>\n",
       "      <td>-224.000</td>\n",
       "      <td>1012.000</td>\n",
       "      <td>65.0</td>\n",
       "      <td>...</td>\n",
       "      <td>3830.0</td>\n",
       "      <td>1781.000</td>\n",
       "      <td>1068.000</td>\n",
       "      <td>6845.000</td>\n",
       "      <td>7913.000</td>\n",
       "      <td>4765.000</td>\n",
       "      <td>-203.000</td>\n",
       "      <td>2015.0</td>\n",
       "      <td>0.68</td>\n",
       "      <td>498.529412</td>\n",
       "    </tr>\n",
       "    <tr>\n",
       "      <th>1780</th>\n",
       "      <td>1780</td>\n",
       "      <td>ZTS</td>\n",
       "      <td>12/31/16</td>\n",
       "      <td>1076.000</td>\n",
       "      <td>15.000</td>\n",
       "      <td>2.00</td>\n",
       "      <td>55</td>\n",
       "      <td>-216.000</td>\n",
       "      <td>1024.000</td>\n",
       "      <td>65.0</td>\n",
       "      <td>...</td>\n",
       "      <td>3390.0</td>\n",
       "      <td>1117.000</td>\n",
       "      <td>1487.000</td>\n",
       "      <td>6162.000</td>\n",
       "      <td>7649.000</td>\n",
       "      <td>4888.000</td>\n",
       "      <td>-421.000</td>\n",
       "      <td>NaN</td>\n",
       "      <td>NaN</td>\n",
       "      <td>NaN</td>\n",
       "    </tr>\n",
       "  </tbody>\n",
       "</table>\n",
       "<p>1781 rows × 79 columns</p>\n",
       "</div>"
      ],
      "text/plain": [
       "      Unnamed: 0 Ticker Symbol Period Ending  Accounts Payable  \\\n",
       "0              0           AAL      12/31/12          3068.000   \n",
       "1              1           AAL      12/31/13          4975.000   \n",
       "2              2           AAL      12/31/14          4668.000   \n",
       "3              3           AAL      12/31/15          5102.000   \n",
       "4              4           AAP      12/29/12          2409.453   \n",
       "...          ...           ...           ...               ...   \n",
       "1776        1776          ZION      12/31/15             0.000   \n",
       "1777        1777           ZTS      12/31/13          1381.000   \n",
       "1778        1778           ZTS      12/31/14          1071.000   \n",
       "1779        1779           ZTS      12/31/15          1313.000   \n",
       "1780        1780           ZTS      12/31/16          1076.000   \n",
       "\n",
       "      Accounts Receivable  Add'l income/expense items  After Tax ROE  \\\n",
       "0                -222.000                    -1961.00             23   \n",
       "1                 -93.000                    -2723.00             67   \n",
       "2                -160.000                     -150.00            143   \n",
       "3                 352.000                     -708.00            135   \n",
       "4                 -89.482                        0.60             32   \n",
       "...                   ...                         ...            ...   \n",
       "1776                0.000                       -2.53              4   \n",
       "1777              -99.000                        9.00             54   \n",
       "1778               69.000                       -7.00             44   \n",
       "1779              -58.000                      -81.00             32   \n",
       "1780               15.000                        2.00             55   \n",
       "\n",
       "      Capital Expenditures  Capital Surplus  Cash Ratio  ...  \\\n",
       "0                -1888.000         4695.000        53.0  ...   \n",
       "1                -3114.000        10592.000        75.0  ...   \n",
       "2                -5311.000        15135.000        60.0  ...   \n",
       "3                -6151.000        11591.000        51.0  ...   \n",
       "4                 -271.182          520.215        23.0  ...   \n",
       "...                    ...              ...         ...  ...   \n",
       "1776              -157.361            0.000         NaN  ...   \n",
       "1777              -184.000          878.000        43.0  ...   \n",
       "1778              -180.000          958.000        81.0  ...   \n",
       "1779              -224.000         1012.000        65.0  ...   \n",
       "1780              -216.000         1024.000        65.0  ...   \n",
       "\n",
       "      Total Current Assets  Total Current Liabilities  Total Equity  \\\n",
       "0                   7072.0                   9011.000     -7987.000   \n",
       "1                  14323.0                  13806.000     -2731.000   \n",
       "2                  11750.0                  13404.000      2021.000   \n",
       "3                   9985.0                  13605.000      5635.000   \n",
       "4                   3184.2                   2559.638      1210.694   \n",
       "...                    ...                        ...           ...   \n",
       "1776                   0.0                      0.000      7507.519   \n",
       "1777                3357.0                   1415.000       940.000   \n",
       "1778                3465.0                   1086.000      1311.000   \n",
       "1779                3830.0                   1781.000      1068.000   \n",
       "1780                3390.0                   1117.000      1487.000   \n",
       "\n",
       "      Total Liabilities  Total Liabilities & Equity  Total Revenue  \\\n",
       "0             24891.000                   16904.000      24855.000   \n",
       "1             45009.000                   42278.000      26743.000   \n",
       "2             41204.000                   43225.000      42650.000   \n",
       "3             42780.000                   48415.000      40990.000   \n",
       "4              3403.120                    4613.814       6205.003   \n",
       "...                 ...                         ...            ...   \n",
       "1776          52162.006                   59669.525       2210.591   \n",
       "1777           5618.000                    6558.000       4561.000   \n",
       "1778           5277.000                    6588.000       4785.000   \n",
       "1779           6845.000                    7913.000       4765.000   \n",
       "1780           6162.000                    7649.000       4888.000   \n",
       "\n",
       "      Treasury Stock  For Year  Earnings Per Share  \\\n",
       "0           -367.000    2012.0               -5.60   \n",
       "1              0.000    2013.0              -11.25   \n",
       "2              0.000    2014.0                4.02   \n",
       "3              0.000    2015.0               11.39   \n",
       "4            -27.095    2012.0                5.29   \n",
       "...              ...       ...                 ...   \n",
       "1776           0.000    2015.0                1.20   \n",
       "1777           0.000    2013.0                1.01   \n",
       "1778           0.000    2014.0                1.16   \n",
       "1779        -203.000    2015.0                0.68   \n",
       "1780        -421.000       NaN                 NaN   \n",
       "\n",
       "      Estimated Shares Outstanding  \n",
       "0                       335.000000  \n",
       "1                       163.022222  \n",
       "2                       716.915423  \n",
       "3                       668.129938  \n",
       "4                        73.283554  \n",
       "...                            ...  \n",
       "1776                    257.892500  \n",
       "1777                    499.009901  \n",
       "1778                    502.586207  \n",
       "1779                    498.529412  \n",
       "1780                           NaN  \n",
       "\n",
       "[1781 rows x 79 columns]"
      ]
     },
     "execution_count": 111,
     "metadata": {},
     "output_type": "execute_result"
    }
   ],
   "source": [
    "for i in metrics.iloc[:,3:6].columns:\n",
    "    metrics[i] = metrics[i] / 1000000\n",
    "    \n",
    "for i in metrics.iloc[:,7:9].columns:\n",
    "    metrics[i] = metrics[i] / 1000000\n",
    "    \n",
    "#for i in metrics.iloc[:,10:14].columns:\n",
    "    metrics[i] = metrics[i] / 1000000\n",
    "    \n",
    "for i in metrics.iloc[:,15:24].columns:\n",
    "    metrics[i] = metrics[i] / 1000000\n",
    "    \n",
    "for i in metrics.iloc[:,25:48].columns:\n",
    "    metrics[i] = metrics[i] / 1000000\n",
    "    \n",
    "for i in metrics.iloc[:,49:58].columns:\n",
    "    metrics[i] = metrics[i] / 1000000\n",
    "    \n",
    "for i in metrics.iloc[:,62:76].columns:\n",
    "    metrics[i] = metrics[i] / 1000000\n",
    "    \n",
    "for i in metrics.iloc[:,78:].columns:\n",
    "    metrics[i] = metrics[i] / 1000000\n",
    "    \n",
    "#Column_to_Change = ['3:6','7:9','10:14','15:24','25:48','49:58','62:76','78:']\n",
    "metrics"
   ]
  },
  {
   "cell_type": "code",
   "execution_count": 112,
   "metadata": {},
   "outputs": [
    {
     "data": {
      "text/plain": [
       "(1781, 79)"
      ]
     },
     "execution_count": 112,
     "metadata": {},
     "output_type": "execute_result"
    }
   ],
   "source": [
    "metrics.shape"
   ]
  },
  {
   "cell_type": "code",
   "execution_count": 114,
   "metadata": {
    "collapsed": true,
    "jupyter": {
     "outputs_hidden": true
    }
   },
   "outputs": [
    {
     "data": {
      "text/plain": [
       "Unnamed: 0                                               0\n",
       "Ticker Symbol                                            0\n",
       "Period Ending                                            0\n",
       "Accounts Payable                                         0\n",
       "Accounts Receivable                                      0\n",
       "Add'l income/expense items                               0\n",
       "After Tax ROE                                            0\n",
       "Capital Expenditures                                     0\n",
       "Capital Surplus                                          0\n",
       "Cash Ratio                                             299\n",
       "Cash and Cash Equivalents                                0\n",
       "Changes in Inventories                                   0\n",
       "Common Stocks                                            0\n",
       "Cost of Revenue                                          0\n",
       "Current Ratio                                          299\n",
       "Deferred Asset Charges                                   0\n",
       "Deferred Liability Charges                               0\n",
       "Depreciation                                             0\n",
       "Earnings Before Interest and Tax                         0\n",
       "Earnings Before Tax                                      0\n",
       "Effect of Exchange Rate                                  0\n",
       "Equity Earnings/Loss Unconsolidated Subsidiary           0\n",
       "Fixed Assets                                             0\n",
       "Goodwill                                                 0\n",
       "Gross Margin                                             0\n",
       "Gross Profit                                             0\n",
       "Income Tax                                               0\n",
       "Intangible Assets                                        0\n",
       "Interest Expense                                         0\n",
       "Inventory                                                0\n",
       "Investments                                              0\n",
       "Liabilities                                              0\n",
       "Long-Term Debt                                           0\n",
       "Long-Term Investments                                    0\n",
       "Minority Interest                                        0\n",
       "Misc. Stocks                                             0\n",
       "Net Borrowings                                           0\n",
       "Net Cash Flow                                            0\n",
       "Net Cash Flow-Operating                                  0\n",
       "Net Cash Flows-Financing                                 0\n",
       "Net Cash Flows-Investing                                 0\n",
       "Net Income                                               0\n",
       "Net Income Adjustments                                   0\n",
       "Net Income Applicable to Common Shareholders             0\n",
       "Net Income-Cont. Operations                              0\n",
       "Net Receivables                                          0\n",
       "Non-Recurring Items                                      0\n",
       "Operating Income                                         0\n",
       "Operating Margin                                         0\n",
       "Other Assets                                             0\n",
       "Other Current Assets                                     0\n",
       "Other Current Liabilities                                0\n",
       "Other Equity                                             0\n",
       "Other Financing Activities                               0\n",
       "Other Investing Activities                               0\n",
       "Other Liabilities                                        0\n",
       "Other Operating Activities                               0\n",
       "Other Operating Items                                    0\n",
       "Pre-Tax Margin                                           0\n",
       "Pre-Tax ROE                                              0\n",
       "Profit Margin                                            0\n",
       "Quick Ratio                                            299\n",
       "Research and Development                                 0\n",
       "Retained Earnings                                        0\n",
       "Sale and Purchase of Stock                               0\n",
       "Sales, General and Admin.                                0\n",
       "Short-Term Debt / Current Portion of Long-Term Debt      0\n",
       "Short-Term Investments                                   0\n",
       "Total Assets                                             0\n",
       "Total Current Assets                                     0\n",
       "Total Current Liabilities                                0\n",
       "Total Equity                                             0\n",
       "Total Liabilities                                        0\n",
       "Total Liabilities & Equity                               0\n",
       "Total Revenue                                            0\n",
       "Treasury Stock                                           0\n",
       "For Year                                               173\n",
       "Earnings Per Share                                     219\n",
       "Estimated Shares Outstanding                           219\n",
       "dtype: int64"
      ]
     },
     "execution_count": 114,
     "metadata": {},
     "output_type": "execute_result"
    }
   ],
   "source": [
    "metrics.isna().sum()"
   ]
  },
  {
   "cell_type": "markdown",
   "metadata": {},
   "source": [
    "_**1. dropping null values, dropping the columns \"Period Ending\" and \"Unamed:0\" from our metrics dataset, remanming the Dataset to \"metric\"**_\n",
    "\n",
    "_**2. Converting \"Period Ending Column to Date Time Object\"**_\n",
    "\n",
    "_**3. Extracting the year from the datetime column \"Period Ending\" and Creating 'year' column**_\n",
    "\n",
    "_**4. Renaming \"Ticker Symbol\" Column for the purpose of a common columne for merging purposes.**_"
   ]
  },
  {
   "cell_type": "code",
   "execution_count": 115,
   "metadata": {},
   "outputs": [],
   "source": [
    "#1\n",
    "metric = metrics.dropna()\n",
    "\n",
    "metric.drop('For Year', axis=1, inplace=True)\n",
    "\n",
    "drop_columns(metric,'Unnamed: 0')"
   ]
  },
  {
   "cell_type": "code",
   "execution_count": 116,
   "metadata": {},
   "outputs": [],
   "source": [
    "#2\n",
    "metric['Period Ending'] = pd.to_datetime(metric['Period Ending'])"
   ]
  },
  {
   "cell_type": "code",
   "execution_count": 117,
   "metadata": {},
   "outputs": [],
   "source": [
    "#3\n",
    "metric['year'] = metric['Period Ending'].dt.year"
   ]
  },
  {
   "cell_type": "code",
   "execution_count": 118,
   "metadata": {},
   "outputs": [],
   "source": [
    "column_rename(metric,'Ticker Symbol', 'ticker')\n"
   ]
  },
  {
   "cell_type": "markdown",
   "metadata": {},
   "source": [
    "_**Extracting the year 2015 financial report line itemss from the metrics dataset - this is the year we are using for our analysis**_"
   ]
  },
  {
   "cell_type": "code",
   "execution_count": 119,
   "metadata": {},
   "outputs": [],
   "source": [
    "metric = metric[(metric['year']) == 2015]"
   ]
  },
  {
   "cell_type": "markdown",
   "metadata": {},
   "source": [
    "_**Elimination of unecessary columns in the Metrics data set**_"
   ]
  },
  {
   "cell_type": "code",
   "execution_count": 120,
   "metadata": {},
   "outputs": [],
   "source": [
    "drop_columns(metric,'Short-Term Debt / Current Portion of Long-Term Debt','Other Current Assets', 'Other Current Liabilities', \n",
    "'Other Equity','Other Financing Activities', 'Other Investing Activities','Other Liabilities', \n",
    "'Other Operating Activities','Other Operating Items','Other Assets','Minority Interest','Common Stocks',\n",
    "'Depreciation','Deferred Asset Charges','Deferred Liability Charges','Effect of Exchange Rate','Changes in Inventories',\n",
    "'Equity Earnings/Loss Unconsolidated Subsidiary','Sale and Purchase of Stock','Treasury Stock','Net Income Applicable to Common Shareholders',\n",
    "'Misc. Stocks','Net Income Adjustments','Non-Recurring Items','Goodwill',\"Add'l income/expense items\",\n",
    "'Research and Development','Earnings Before Tax','Net Borrowings','Capital Surplus','Intangible Assets','Net Income-Cont. Operations',\n",
    "'After Tax ROE','Pre-Tax ROE','Net Receivables','Net Receivables','Short-Term Investments','Period Ending','Gross Margin',\n",
    "'Interest Expense','Income Tax','Fixed Assets')\n",
    "\n"
   ]
  },
  {
   "cell_type": "markdown",
   "metadata": {},
   "source": [
    "_**Formating the numerial values in our dataset with no decimal points.**_"
   ]
  },
  {
   "cell_type": "code",
   "execution_count": 121,
   "metadata": {},
   "outputs": [],
   "source": [
    "pd.options.display.float_format = '{:.0f}'.format"
   ]
  },
  {
   "cell_type": "markdown",
   "metadata": {},
   "source": [
    "_**Replacing all columns with a zero integer with a random value within the range of that max and min value of the columns**_"
   ]
  },
  {
   "cell_type": "code",
   "execution_count": 126,
   "metadata": {
    "collapsed": true,
    "jupyter": {
     "outputs_hidden": true
    }
   },
   "outputs": [
    {
     "data": {
      "text/plain": [
       "ticker                              0\n",
       "Accounts Payable                    0\n",
       "Accounts Receivable                 0\n",
       "Capital Expenditures                0\n",
       "Cash Ratio                          0\n",
       "Cash and Cash Equivalents           0\n",
       "Cost of Revenue                     0\n",
       "Current Ratio                       0\n",
       "Earnings Before Interest and Tax    0\n",
       "Gross Profit                        0\n",
       "Inventory                           0\n",
       "Investments                         0\n",
       "Liabilities                         0\n",
       "Long-Term Debt                      0\n",
       "Long-Term Investments               0\n",
       "Net Cash Flow                       0\n",
       "Net Cash Flow-Operating             0\n",
       "Net Cash Flows-Financing            0\n",
       "Net Cash Flows-Investing            0\n",
       "Net Income                          0\n",
       "Operating Income                    0\n",
       "Operating Margin                    0\n",
       "Pre-Tax Margin                      0\n",
       "Profit Margin                       0\n",
       "Quick Ratio                         0\n",
       "Retained Earnings                   0\n",
       "Sales, General and Admin.           0\n",
       "Total Assets                        0\n",
       "Total Current Assets                0\n",
       "Total Current Liabilities           0\n",
       "Total Equity                        0\n",
       "Total Liabilities                   0\n",
       "Total Liabilities & Equity          0\n",
       "Total Revenue                       0\n",
       "Earnings Per Share                  0\n",
       "Estimated Shares Outstanding        0\n",
       "year                                0\n",
       "dtype: int64"
      ]
     },
     "execution_count": 126,
     "metadata": {},
     "output_type": "execute_result"
    }
   ],
   "source": [
    "zero_count(metric)"
   ]
  },
  {
   "cell_type": "code",
   "execution_count": 125,
   "metadata": {},
   "outputs": [],
   "source": [
    "for i in ['Accounts Receivable',\n",
    "'Capital Expenditures',\n",
    "'Cash Ratio',\n",
    "'Long-Term Debt',\n",
    "'Cost of Revenue',\n",
    "'Inventory',\n",
    "'Investments',\n",
    "'Liabilities',\n",
    "'Long-Term Investments',\n",
    "'Net Cash Flow',\n",
    "'Operating Margin',\n",
    "'Profit Margin',\n",
    "'Retained Earnings',\n",
    "'Sales, General and Admin.','Pre-Tax Margin']:\n",
    "    \n",
    "    value_imput(metric, i)"
   ]
  },
  {
   "cell_type": "code",
   "execution_count": 127,
   "metadata": {},
   "outputs": [
    {
     "data": {
      "text/html": [
       "<div>\n",
       "<style scoped>\n",
       "    .dataframe tbody tr th:only-of-type {\n",
       "        vertical-align: middle;\n",
       "    }\n",
       "\n",
       "    .dataframe tbody tr th {\n",
       "        vertical-align: top;\n",
       "    }\n",
       "\n",
       "    .dataframe thead th {\n",
       "        text-align: right;\n",
       "    }\n",
       "</style>\n",
       "<table border=\"1\" class=\"dataframe\">\n",
       "  <thead>\n",
       "    <tr style=\"text-align: right;\">\n",
       "      <th></th>\n",
       "      <th>ticker</th>\n",
       "      <th>Accounts Payable</th>\n",
       "      <th>Accounts Receivable</th>\n",
       "      <th>Capital Expenditures</th>\n",
       "      <th>Cash Ratio</th>\n",
       "      <th>Cash and Cash Equivalents</th>\n",
       "      <th>Cost of Revenue</th>\n",
       "      <th>Current Ratio</th>\n",
       "      <th>Earnings Before Interest and Tax</th>\n",
       "      <th>Gross Profit</th>\n",
       "      <th>...</th>\n",
       "      <th>Total Assets</th>\n",
       "      <th>Total Current Assets</th>\n",
       "      <th>Total Current Liabilities</th>\n",
       "      <th>Total Equity</th>\n",
       "      <th>Total Liabilities</th>\n",
       "      <th>Total Liabilities &amp; Equity</th>\n",
       "      <th>Total Revenue</th>\n",
       "      <th>Earnings Per Share</th>\n",
       "      <th>Estimated Shares Outstanding</th>\n",
       "      <th>year</th>\n",
       "    </tr>\n",
       "  </thead>\n",
       "  <tbody>\n",
       "    <tr>\n",
       "      <th>3</th>\n",
       "      <td>AAL</td>\n",
       "      <td>5102</td>\n",
       "      <td>352</td>\n",
       "      <td>-6151</td>\n",
       "      <td>51</td>\n",
       "      <td>1085</td>\n",
       "      <td>11096</td>\n",
       "      <td>73</td>\n",
       "      <td>5496</td>\n",
       "      <td>29894</td>\n",
       "      <td>...</td>\n",
       "      <td>48415</td>\n",
       "      <td>9985</td>\n",
       "      <td>13605</td>\n",
       "      <td>5635</td>\n",
       "      <td>42780</td>\n",
       "      <td>48415</td>\n",
       "      <td>40990</td>\n",
       "      <td>11</td>\n",
       "      <td>668</td>\n",
       "      <td>2015</td>\n",
       "    </tr>\n",
       "    <tr>\n",
       "      <th>6</th>\n",
       "      <td>AAP</td>\n",
       "      <td>3616</td>\n",
       "      <td>-48</td>\n",
       "      <td>-228</td>\n",
       "      <td>3</td>\n",
       "      <td>105</td>\n",
       "      <td>5390</td>\n",
       "      <td>130</td>\n",
       "      <td>855</td>\n",
       "      <td>4454</td>\n",
       "      <td>...</td>\n",
       "      <td>7962</td>\n",
       "      <td>4741</td>\n",
       "      <td>3654</td>\n",
       "      <td>2003</td>\n",
       "      <td>5959</td>\n",
       "      <td>7962</td>\n",
       "      <td>9844</td>\n",
       "      <td>7</td>\n",
       "      <td>73</td>\n",
       "      <td>2015</td>\n",
       "    </tr>\n",
       "    <tr>\n",
       "      <th>10</th>\n",
       "      <td>AAPL</td>\n",
       "      <td>60671</td>\n",
       "      <td>-3124</td>\n",
       "      <td>-11247</td>\n",
       "      <td>52</td>\n",
       "      <td>21120</td>\n",
       "      <td>140000</td>\n",
       "      <td>111</td>\n",
       "      <td>72515</td>\n",
       "      <td>93626</td>\n",
       "      <td>...</td>\n",
       "      <td>290000</td>\n",
       "      <td>89378</td>\n",
       "      <td>80610</td>\n",
       "      <td>119000</td>\n",
       "      <td>171000</td>\n",
       "      <td>290000</td>\n",
       "      <td>234000</td>\n",
       "      <td>9</td>\n",
       "      <td>5754</td>\n",
       "      <td>2015</td>\n",
       "    </tr>\n",
       "    <tr>\n",
       "      <th>15</th>\n",
       "      <td>ABBV</td>\n",
       "      <td>8463</td>\n",
       "      <td>-1076</td>\n",
       "      <td>-532</td>\n",
       "      <td>77</td>\n",
       "      <td>8399</td>\n",
       "      <td>4500</td>\n",
       "      <td>150</td>\n",
       "      <td>7331</td>\n",
       "      <td>18359</td>\n",
       "      <td>...</td>\n",
       "      <td>53050</td>\n",
       "      <td>16314</td>\n",
       "      <td>10894</td>\n",
       "      <td>3945</td>\n",
       "      <td>49105</td>\n",
       "      <td>53050</td>\n",
       "      <td>22859</td>\n",
       "      <td>3</td>\n",
       "      <td>1633</td>\n",
       "      <td>2015</td>\n",
       "    </tr>\n",
       "    <tr>\n",
       "      <th>18</th>\n",
       "      <td>ABC</td>\n",
       "      <td>21578</td>\n",
       "      <td>-1479</td>\n",
       "      <td>-232</td>\n",
       "      <td>10</td>\n",
       "      <td>2167</td>\n",
       "      <td>132000</td>\n",
       "      <td>94</td>\n",
       "      <td>378</td>\n",
       "      <td>3529</td>\n",
       "      <td>...</td>\n",
       "      <td>27963</td>\n",
       "      <td>20334</td>\n",
       "      <td>21578</td>\n",
       "      <td>616</td>\n",
       "      <td>27347</td>\n",
       "      <td>27963</td>\n",
       "      <td>136000</td>\n",
       "      <td>-1</td>\n",
       "      <td>223</td>\n",
       "      <td>2015</td>\n",
       "    </tr>\n",
       "  </tbody>\n",
       "</table>\n",
       "<p>5 rows × 37 columns</p>\n",
       "</div>"
      ],
      "text/plain": [
       "   ticker  Accounts Payable  Accounts Receivable  Capital Expenditures  \\\n",
       "3     AAL              5102                  352                 -6151   \n",
       "6     AAP              3616                  -48                  -228   \n",
       "10   AAPL             60671                -3124                -11247   \n",
       "15   ABBV              8463                -1076                  -532   \n",
       "18    ABC             21578                -1479                  -232   \n",
       "\n",
       "    Cash Ratio  Cash and Cash Equivalents  Cost of Revenue  Current Ratio  \\\n",
       "3           51                       1085            11096             73   \n",
       "6            3                        105             5390            130   \n",
       "10          52                      21120           140000            111   \n",
       "15          77                       8399             4500            150   \n",
       "18          10                       2167           132000             94   \n",
       "\n",
       "    Earnings Before Interest and Tax  Gross Profit  ...  Total Assets  \\\n",
       "3                               5496         29894  ...         48415   \n",
       "6                                855          4454  ...          7962   \n",
       "10                             72515         93626  ...        290000   \n",
       "15                              7331         18359  ...         53050   \n",
       "18                               378          3529  ...         27963   \n",
       "\n",
       "    Total Current Assets  Total Current Liabilities  Total Equity  \\\n",
       "3                   9985                      13605          5635   \n",
       "6                   4741                       3654          2003   \n",
       "10                 89378                      80610        119000   \n",
       "15                 16314                      10894          3945   \n",
       "18                 20334                      21578           616   \n",
       "\n",
       "    Total Liabilities  Total Liabilities & Equity  Total Revenue  \\\n",
       "3               42780                       48415          40990   \n",
       "6                5959                        7962           9844   \n",
       "10             171000                      290000         234000   \n",
       "15              49105                       53050          22859   \n",
       "18              27347                       27963         136000   \n",
       "\n",
       "    Earnings Per Share  Estimated Shares Outstanding  year  \n",
       "3                   11                           668  2015  \n",
       "6                    7                            73  2015  \n",
       "10                   9                          5754  2015  \n",
       "15                   3                          1633  2015  \n",
       "18                  -1                           223  2015  \n",
       "\n",
       "[5 rows x 37 columns]"
      ]
     },
     "execution_count": 127,
     "metadata": {},
     "output_type": "execute_result"
    }
   ],
   "source": [
    "metric.head()"
   ]
  },
  {
   "cell_type": "markdown",
   "metadata": {},
   "source": [
    "-------------------------------------------------"
   ]
  },
  {
   "cell_type": "markdown",
   "metadata": {},
   "source": [
    "#### Equity Dataset Wrangling"
   ]
  },
  {
   "cell_type": "markdown",
   "metadata": {},
   "source": [
    "----------------------------------------------------"
   ]
  },
  {
   "cell_type": "code",
   "execution_count": 128,
   "metadata": {},
   "outputs": [
    {
     "data": {
      "text/html": [
       "<div>\n",
       "<style scoped>\n",
       "    .dataframe tbody tr th:only-of-type {\n",
       "        vertical-align: middle;\n",
       "    }\n",
       "\n",
       "    .dataframe tbody tr th {\n",
       "        vertical-align: top;\n",
       "    }\n",
       "\n",
       "    .dataframe thead th {\n",
       "        text-align: right;\n",
       "    }\n",
       "</style>\n",
       "<table border=\"1\" class=\"dataframe\">\n",
       "  <thead>\n",
       "    <tr style=\"text-align: right;\">\n",
       "      <th></th>\n",
       "      <th>Ticker symbol</th>\n",
       "      <th>Security</th>\n",
       "      <th>SEC filings</th>\n",
       "      <th>GICS Sector</th>\n",
       "      <th>GICS Sub Industry</th>\n",
       "      <th>Address of Headquarters</th>\n",
       "      <th>Date first added</th>\n",
       "      <th>CIK</th>\n",
       "    </tr>\n",
       "  </thead>\n",
       "  <tbody>\n",
       "    <tr>\n",
       "      <th>0</th>\n",
       "      <td>MMM</td>\n",
       "      <td>3M Company</td>\n",
       "      <td>reports</td>\n",
       "      <td>Industrials</td>\n",
       "      <td>Industrial Conglomerates</td>\n",
       "      <td>St. Paul, Minnesota</td>\n",
       "      <td>NaN</td>\n",
       "      <td>66740</td>\n",
       "    </tr>\n",
       "    <tr>\n",
       "      <th>1</th>\n",
       "      <td>ABT</td>\n",
       "      <td>Abbott Laboratories</td>\n",
       "      <td>reports</td>\n",
       "      <td>Health Care</td>\n",
       "      <td>Health Care Equipment</td>\n",
       "      <td>North Chicago, Illinois</td>\n",
       "      <td>3/31/64</td>\n",
       "      <td>1800</td>\n",
       "    </tr>\n",
       "    <tr>\n",
       "      <th>2</th>\n",
       "      <td>ABBV</td>\n",
       "      <td>AbbVie</td>\n",
       "      <td>reports</td>\n",
       "      <td>Health Care</td>\n",
       "      <td>Pharmaceuticals</td>\n",
       "      <td>North Chicago, Illinois</td>\n",
       "      <td>12/31/12</td>\n",
       "      <td>1551152</td>\n",
       "    </tr>\n",
       "    <tr>\n",
       "      <th>3</th>\n",
       "      <td>ACN</td>\n",
       "      <td>Accenture plc</td>\n",
       "      <td>reports</td>\n",
       "      <td>Information Technology</td>\n",
       "      <td>IT Consulting &amp; Other Services</td>\n",
       "      <td>Dublin, Ireland</td>\n",
       "      <td>7/6/11</td>\n",
       "      <td>1467373</td>\n",
       "    </tr>\n",
       "    <tr>\n",
       "      <th>4</th>\n",
       "      <td>ATVI</td>\n",
       "      <td>Activision Blizzard</td>\n",
       "      <td>reports</td>\n",
       "      <td>Information Technology</td>\n",
       "      <td>Home Entertainment Software</td>\n",
       "      <td>Santa Monica, California</td>\n",
       "      <td>8/31/15</td>\n",
       "      <td>718877</td>\n",
       "    </tr>\n",
       "  </tbody>\n",
       "</table>\n",
       "</div>"
      ],
      "text/plain": [
       "  Ticker symbol             Security SEC filings             GICS Sector  \\\n",
       "0           MMM           3M Company     reports             Industrials   \n",
       "1           ABT  Abbott Laboratories     reports             Health Care   \n",
       "2          ABBV               AbbVie     reports             Health Care   \n",
       "3           ACN        Accenture plc     reports  Information Technology   \n",
       "4          ATVI  Activision Blizzard     reports  Information Technology   \n",
       "\n",
       "                GICS Sub Industry   Address of Headquarters Date first added  \\\n",
       "0        Industrial Conglomerates       St. Paul, Minnesota              NaN   \n",
       "1           Health Care Equipment   North Chicago, Illinois          3/31/64   \n",
       "2                 Pharmaceuticals   North Chicago, Illinois         12/31/12   \n",
       "3  IT Consulting & Other Services           Dublin, Ireland           7/6/11   \n",
       "4     Home Entertainment Software  Santa Monica, California          8/31/15   \n",
       "\n",
       "       CIK  \n",
       "0    66740  \n",
       "1     1800  \n",
       "2  1551152  \n",
       "3  1467373  \n",
       "4   718877  "
      ]
     },
     "execution_count": 128,
     "metadata": {},
     "output_type": "execute_result"
    }
   ],
   "source": [
    "equity.head()"
   ]
  },
  {
   "cell_type": "markdown",
   "metadata": {},
   "source": [
    "_**Dropping unecessary columns in the equity dataset**_"
   ]
  },
  {
   "cell_type": "code",
   "execution_count": 129,
   "metadata": {},
   "outputs": [],
   "source": [
    "equity.drop(columns=['SEC filings', 'Date first added','CIK', 'GICS Sub Industry'], inplace=True)"
   ]
  },
  {
   "cell_type": "markdown",
   "metadata": {},
   "source": [
    "_**Renaming columns name in the equity Data set**_"
   ]
  },
  {
   "cell_type": "code",
   "execution_count": 130,
   "metadata": {},
   "outputs": [],
   "source": [
    "equity.columns=['ticker', 'security', 'sector', 'location']"
   ]
  },
  {
   "cell_type": "markdown",
   "metadata": {},
   "source": [
    "_**Extracting state name from the location column.**_ "
   ]
  },
  {
   "cell_type": "code",
   "execution_count": 131,
   "metadata": {},
   "outputs": [],
   "source": [
    "equity[['city', 'state']] = equity['location'].str.split(',', n=1, expand=True )"
   ]
  },
  {
   "cell_type": "markdown",
   "metadata": {},
   "source": [
    "_**Dropping the columns 'locaction' and 'City'**_"
   ]
  },
  {
   "cell_type": "code",
   "execution_count": 132,
   "metadata": {},
   "outputs": [],
   "source": [
    "drop_columns(equity,'location','city')"
   ]
  },
  {
   "cell_type": "code",
   "execution_count": 133,
   "metadata": {},
   "outputs": [
    {
     "data": {
      "text/plain": [
       "(505, 4)"
      ]
     },
     "execution_count": 133,
     "metadata": {},
     "output_type": "execute_result"
    }
   ],
   "source": [
    "equity.shape"
   ]
  },
  {
   "cell_type": "markdown",
   "metadata": {},
   "source": [
    "------------------------"
   ]
  },
  {
   "cell_type": "markdown",
   "metadata": {},
   "source": [
    "#### Price Dataset Wrangling"
   ]
  },
  {
   "cell_type": "markdown",
   "metadata": {},
   "source": [
    "-----------------"
   ]
  },
  {
   "cell_type": "code",
   "execution_count": 143,
   "metadata": {},
   "outputs": [
    {
     "data": {
      "text/html": [
       "<div>\n",
       "<style scoped>\n",
       "    .dataframe tbody tr th:only-of-type {\n",
       "        vertical-align: middle;\n",
       "    }\n",
       "\n",
       "    .dataframe tbody tr th {\n",
       "        vertical-align: top;\n",
       "    }\n",
       "\n",
       "    .dataframe thead th {\n",
       "        text-align: right;\n",
       "    }\n",
       "</style>\n",
       "<table border=\"1\" class=\"dataframe\">\n",
       "  <thead>\n",
       "    <tr style=\"text-align: right;\">\n",
       "      <th></th>\n",
       "      <th>date</th>\n",
       "      <th>ticker</th>\n",
       "      <th>rtn_2015</th>\n",
       "      <th>avg_price</th>\n",
       "      <th>volume</th>\n",
       "    </tr>\n",
       "  </thead>\n",
       "  <tbody>\n",
       "    <tr>\n",
       "      <th>0</th>\n",
       "      <td>2015</td>\n",
       "      <td>A</td>\n",
       "      <td>2.6680</td>\n",
       "      <td>39.4375</td>\n",
       "      <td>2.0442</td>\n",
       "    </tr>\n",
       "    <tr>\n",
       "      <th>1</th>\n",
       "      <td>2015</td>\n",
       "      <td>AAL</td>\n",
       "      <td>-21.5742</td>\n",
       "      <td>45.7040</td>\n",
       "      <td>10.5864</td>\n",
       "    </tr>\n",
       "    <tr>\n",
       "      <th>2</th>\n",
       "      <td>2015</td>\n",
       "      <td>AAP</td>\n",
       "      <td>-5.5085</td>\n",
       "      <td>161.7270</td>\n",
       "      <td>1.4130</td>\n",
       "    </tr>\n",
       "    <tr>\n",
       "      <th>3</th>\n",
       "      <td>2015</td>\n",
       "      <td>AAPL</td>\n",
       "      <td>-3.5016</td>\n",
       "      <td>115.3860</td>\n",
       "      <td>49.3548</td>\n",
       "    </tr>\n",
       "    <tr>\n",
       "      <th>4</th>\n",
       "      <td>2015</td>\n",
       "      <td>ABBV</td>\n",
       "      <td>-9.6136</td>\n",
       "      <td>60.9995</td>\n",
       "      <td>9.3548</td>\n",
       "    </tr>\n",
       "  </tbody>\n",
       "</table>\n",
       "</div>"
      ],
      "text/plain": [
       "   date ticker  rtn_2015  avg_price  volume\n",
       "0  2015      A    2.6680    39.4375  2.0442\n",
       "1  2015    AAL  -21.5742    45.7040 10.5864\n",
       "2  2015    AAP   -5.5085   161.7270  1.4130\n",
       "3  2015   AAPL   -3.5016   115.3860 49.3548\n",
       "4  2015   ABBV   -9.6136    60.9995  9.3548"
      ]
     },
     "execution_count": 143,
     "metadata": {},
     "output_type": "execute_result"
    }
   ],
   "source": [
    "price.head()"
   ]
  },
  {
   "cell_type": "markdown",
   "metadata": {},
   "source": [
    "_**Dropping \"Avg\" column due to it's irrlevance**_"
   ]
  },
  {
   "cell_type": "code",
   "execution_count": 142,
   "metadata": {},
   "outputs": [],
   "source": [
    "drop_columns(price,'Avg')"
   ]
  },
  {
   "cell_type": "markdown",
   "metadata": {},
   "source": [
    "_**Formating the size of the volume feature values in millions in the price dataset for easier readablility.**_"
   ]
  },
  {
   "cell_type": "code",
   "execution_count": 135,
   "metadata": {},
   "outputs": [],
   "source": [
    "price['volume'] = price['volume'] / 1000000"
   ]
  },
  {
   "cell_type": "markdown",
   "metadata": {},
   "source": [
    "_**Renaming the column symbol to ticker for purpose of merging dataset on a common colunm identifier.**_"
   ]
  },
  {
   "cell_type": "code",
   "execution_count": 136,
   "metadata": {},
   "outputs": [],
   "source": [
    "column_rename(price,'symbol', 'ticker')"
   ]
  },
  {
   "cell_type": "markdown",
   "metadata": {},
   "source": [
    "---------------"
   ]
  },
  {
   "cell_type": "markdown",
   "metadata": {},
   "source": [
    "#### Explatory Data Analysis Section"
   ]
  },
  {
   "cell_type": "markdown",
   "metadata": {},
   "source": [
    "--------------------------"
   ]
  },
  {
   "cell_type": "markdown",
   "metadata": {},
   "source": [
    "**Investor have a higher probability of returns by shorting (selling) equity's that being long (buying) equity**\n",
    "- Return distribution are much higher for negative returns than positive returns."
   ]
  },
  {
   "cell_type": "code",
   "execution_count": 773,
   "metadata": {},
   "outputs": [
    {
     "data": {
      "text/html": [
       "<div>\n",
       "<style scoped>\n",
       "    .dataframe tbody tr th:only-of-type {\n",
       "        vertical-align: middle;\n",
       "    }\n",
       "\n",
       "    .dataframe tbody tr th {\n",
       "        vertical-align: top;\n",
       "    }\n",
       "\n",
       "    .dataframe thead th {\n",
       "        text-align: right;\n",
       "    }\n",
       "</style>\n",
       "<table border=\"1\" class=\"dataframe\">\n",
       "  <thead>\n",
       "    <tr style=\"text-align: right;\">\n",
       "      <th></th>\n",
       "      <th>date</th>\n",
       "      <th>ticker</th>\n",
       "      <th>rtn_2015</th>\n",
       "      <th>avg_price</th>\n",
       "      <th>volume</th>\n",
       "    </tr>\n",
       "  </thead>\n",
       "  <tbody>\n",
       "    <tr>\n",
       "      <th>0</th>\n",
       "      <td>2015</td>\n",
       "      <td>A</td>\n",
       "      <td>2.6680</td>\n",
       "      <td>39.4375</td>\n",
       "      <td>2.0442</td>\n",
       "    </tr>\n",
       "    <tr>\n",
       "      <th>1</th>\n",
       "      <td>2015</td>\n",
       "      <td>AAL</td>\n",
       "      <td>-21.5742</td>\n",
       "      <td>45.7040</td>\n",
       "      <td>10.5864</td>\n",
       "    </tr>\n",
       "    <tr>\n",
       "      <th>2</th>\n",
       "      <td>2015</td>\n",
       "      <td>AAP</td>\n",
       "      <td>-5.5085</td>\n",
       "      <td>161.7270</td>\n",
       "      <td>1.4130</td>\n",
       "    </tr>\n",
       "    <tr>\n",
       "      <th>3</th>\n",
       "      <td>2015</td>\n",
       "      <td>AAPL</td>\n",
       "      <td>-3.5016</td>\n",
       "      <td>115.3860</td>\n",
       "      <td>49.3548</td>\n",
       "    </tr>\n",
       "    <tr>\n",
       "      <th>4</th>\n",
       "      <td>2015</td>\n",
       "      <td>ABBV</td>\n",
       "      <td>-9.6136</td>\n",
       "      <td>60.9995</td>\n",
       "      <td>9.3548</td>\n",
       "    </tr>\n",
       "  </tbody>\n",
       "</table>\n",
       "</div>"
      ],
      "text/plain": [
       "   date ticker  rtn_2015  avg_price  volume\n",
       "0  2015      A    2.6680    39.4375  2.0442\n",
       "1  2015    AAL  -21.5742    45.7040 10.5864\n",
       "2  2015    AAP   -5.5085   161.7270  1.4130\n",
       "3  2015   AAPL   -3.5016   115.3860 49.3548\n",
       "4  2015   ABBV   -9.6136    60.9995  9.3548"
      ]
     },
     "execution_count": 773,
     "metadata": {},
     "output_type": "execute_result"
    }
   ],
   "source": [
    "price.head()"
   ]
  },
  {
   "cell_type": "code",
   "execution_count": 1465,
   "metadata": {},
   "outputs": [
    {
     "data": {
      "image/png": "[encoded data removed]",
      "text/plain": [
       "<Figure size 720x432 with 1 Axes>"
      ]
     },
     "metadata": {
      "needs_background": "light"
     },
     "output_type": "display_data"
    }
   ],
   "source": [
    "fig = plt.figure(figsize=(10,6))\n",
    "\n",
    "sns.distplot(price['rtn_2015'], bins=90, color='grey')\n",
    "\n",
    "plt.yticks(np.arange(0, .030, step=.0025))\n",
    "\n",
    "plt.grid(which='major',linestyle=\"--\",linewidth=.30)\n",
    "\n",
    "plt.title('2015 Equity Return Distribution')\n",
    "\n",
    "plt.savefig('Model_Final/figure.jpg')\n",
    "\n",
    "plt.show()"
   ]
  },
  {
   "cell_type": "code",
   "execution_count": 1467,
   "metadata": {},
   "outputs": [
    {
     "data": {
      "image/png": "[encoded data removed]",
      "text/plain": [
       "<Figure size 432x288 with 1 Axes>"
      ]
     },
     "metadata": {
      "needs_background": "light"
     },
     "output_type": "display_data"
    },
    {
     "data": {
      "text/plain": [
       "<Figure size 720x720 with 0 Axes>"
      ]
     },
     "metadata": {},
     "output_type": "display_data"
    },
    {
     "data": {
      "text/html": [
       "<div>\n",
       "<style scoped>\n",
       "    .dataframe tbody tr th:only-of-type {\n",
       "        vertical-align: middle;\n",
       "    }\n",
       "\n",
       "    .dataframe tbody tr th {\n",
       "        vertical-align: top;\n",
       "    }\n",
       "\n",
       "    .dataframe thead th {\n",
       "        text-align: right;\n",
       "    }\n",
       "</style>\n",
       "<table border=\"1\" class=\"dataframe\">\n",
       "  <thead>\n",
       "    <tr style=\"text-align: right;\">\n",
       "      <th></th>\n",
       "      <th>rtn_2015</th>\n",
       "    </tr>\n",
       "  </thead>\n",
       "  <tbody>\n",
       "    <tr>\n",
       "      <th>count</th>\n",
       "      <td>494.0000</td>\n",
       "    </tr>\n",
       "    <tr>\n",
       "      <th>mean</th>\n",
       "      <td>-3.5676</td>\n",
       "    </tr>\n",
       "    <tr>\n",
       "      <th>std</th>\n",
       "      <td>25.7254</td>\n",
       "    </tr>\n",
       "    <tr>\n",
       "      <th>min</th>\n",
       "      <td>-85.2044</td>\n",
       "    </tr>\n",
       "    <tr>\n",
       "      <th>25%</th>\n",
       "      <td>-17.7571</td>\n",
       "    </tr>\n",
       "    <tr>\n",
       "      <th>50%</th>\n",
       "      <td>-1.9863</td>\n",
       "    </tr>\n",
       "    <tr>\n",
       "      <th>75%</th>\n",
       "      <td>11.3058</td>\n",
       "    </tr>\n",
       "    <tr>\n",
       "      <th>max</th>\n",
       "      <td>119.3103</td>\n",
       "    </tr>\n",
       "  </tbody>\n",
       "</table>\n",
       "</div>"
      ],
      "text/plain": [
       "       rtn_2015\n",
       "count  494.0000\n",
       "mean    -3.5676\n",
       "std     25.7254\n",
       "min    -85.2044\n",
       "25%    -17.7571\n",
       "50%     -1.9863\n",
       "75%     11.3058\n",
       "max    119.3103"
      ]
     },
     "execution_count": 1467,
     "metadata": {},
     "output_type": "execute_result"
    }
   ],
   "source": [
    "pd.options.display.float_format = '{:.4f}'.format\n",
    "\n",
    "eda_column(price,'rtn_2015')"
   ]
  },
  {
   "cell_type": "markdown",
   "metadata": {},
   "source": [
    "**The graphing of our 4 valuation metrics relative to our dependent variable, to be used in our final model**"
   ]
  },
  {
   "cell_type": "markdown",
   "metadata": {},
   "source": [
    "*We put the capital expenditure variabel in absolute term to contruct a readable chart.*"
   ]
  },
  {
   "cell_type": "code",
   "execution_count": 1405,
   "metadata": {},
   "outputs": [],
   "source": [
    "project['Capital Expenditures'] = project['Capital Expenditures'].apply(lambda x: abs(x))"
   ]
  },
  {
   "cell_type": "code",
   "execution_count": 1406,
   "metadata": {},
   "outputs": [
    {
     "data": {
      "text/plain": [
       "count     258.0000\n",
       "mean     1387.0948\n",
       "std      2792.7819\n",
       "min        28.1150\n",
       "25%       178.7500\n",
       "50%       453.5000\n",
       "75%      1298.5250\n",
       "max     26490.0000\n",
       "Name: Capital Expenditures, dtype: float64"
      ]
     },
     "execution_count": 1406,
     "metadata": {},
     "output_type": "execute_result"
    }
   ],
   "source": [
    "project['Capital Expenditures'].describe()"
   ]
  },
  {
   "cell_type": "code",
   "execution_count": 1424,
   "metadata": {},
   "outputs": [
    {
     "data": {
      "image/png": "[encoded data removed]",
      "text/plain": [
       "<Figure size 720x432 with 1 Axes>"
      ]
     },
     "metadata": {
      "needs_background": "light"
     },
     "output_type": "display_data"
    }
   ],
   "source": [
    "fig = plt.figure(figsize=(10,6))\n",
    "\n",
    "g = sns.regplot('rtn_2015', 'Capital Expenditures', data=project, color='black')\n",
    "\n",
    "g.set_yscale('log')\n",
    "\n",
    "plt.title('Capital Expenditures correlation to rtn_2015')\n",
    "\n",
    "plt.ylabel('log(Capital Expenditures)')\n",
    "\n",
    "#plt.yticks([10,100,1000,10000],[1200,1300,1400,1500])\n",
    "\n",
    "plt.grid(which='major',linestyle=\"--\",linewidth=.30)\n",
    "\n",
    "plt.tight_layout()\n",
    "\n",
    "plt.savefig('Model_Final/figure.jpg')\n",
    "\n",
    "plt.show()\n",
    "\n",
    "# Capital Expenditures relationhip to annual return 2015"
   ]
  },
  {
   "cell_type": "code",
   "execution_count": 1432,
   "metadata": {},
   "outputs": [
    {
     "data": {
      "image/png": "[encoded data removed]",
      "text/plain": [
       "<Figure size 720x432 with 1 Axes>"
      ]
     },
     "metadata": {
      "needs_background": "light"
     },
     "output_type": "display_data"
    }
   ],
   "source": [
    "fig = plt.figure(figsize=(10,6))\n",
    "\n",
    "g = sns.regplot('rtn_2015', 'Liabilities', data=project, color='black')\n",
    "\n",
    "plt.title('Liabilities correlation to rtn_2015')\n",
    "\n",
    "plt.grid(which='major',linestyle=\"--\",linewidth=.30)\n",
    "\n",
    "plt.tight_layout()\n",
    "\n",
    "plt.savefig('Model_Final/figure.jpg')\n",
    "\n",
    "plt.show()\n",
    "\n",
    "# Liabilities relationhip to annual return 2015"
   ]
  },
  {
   "cell_type": "code",
   "execution_count": 1442,
   "metadata": {},
   "outputs": [
    {
     "data": {
      "image/png": "[encoded data removed]",
      "text/plain": [
       "<Figure size 720x432 with 1 Axes>"
      ]
     },
     "metadata": {
      "needs_background": "light"
     },
     "output_type": "display_data"
    }
   ],
   "source": [
    "fig = plt.figure(figsize=(10,6))\n",
    "\n",
    "g = sns.regplot('rtn_2015', 'avg_price', data=project, color='black')\n",
    "\n",
    "g.set_yscale('log')\n",
    "\n",
    "plt.title('Average price correlation to rtn_2015')\n",
    "\n",
    "plt.ylabel('log(avg_prices)')\n",
    "\n",
    "plt.yticks([10,100,1000,10000],[40,60, 80, 100])\n",
    "\n",
    "plt.grid(which='major',linestyle=\"--\",linewidth=.30)\n",
    "\n",
    "plt.tight_layout()\n",
    "\n",
    "plt.savefig('Model_Final/figure.jpg')\n",
    "\n",
    "plt.show()\n"
   ]
  },
  {
   "cell_type": "code",
   "execution_count": 1434,
   "metadata": {},
   "outputs": [
    {
     "data": {
      "text/plain": [
       "count    258.0000\n",
       "mean      91.2613\n",
       "std      109.3188\n",
       "min       11.2475\n",
       "25%       43.8060\n",
       "50%       65.6680\n",
       "75%       99.7826\n",
       "max     1189.9320\n",
       "Name: avg_price, dtype: float64"
      ]
     },
     "execution_count": 1434,
     "metadata": {},
     "output_type": "execute_result"
    }
   ],
   "source": [
    "project['avg_price'].describe()"
   ]
  },
  {
   "cell_type": "code",
   "execution_count": 1469,
   "metadata": {},
   "outputs": [
    {
     "data": {
      "image/png": "[encoded data removed]",
      "text/plain": [
       "<Figure size 720x720 with 20 Axes>"
      ]
     },
     "metadata": {
      "needs_background": "light"
     },
     "output_type": "display_data"
    }
   ],
   "source": [
    "projecteda = project.iloc[:,[41,12,42,38,2]]\n",
    "\n",
    "g = sns.pairplot(projecteda)\n",
    "\n",
    "plt.show()"
   ]
  },
  {
   "cell_type": "markdown",
   "metadata": {},
   "source": [
    "_**Additional analysis by utilizing the groupby function and performing visualization of key metrics**_"
   ]
  },
  {
   "cell_type": "code",
   "execution_count": 1023,
   "metadata": {},
   "outputs": [],
   "source": [
    "fivem = project[(project['rtn_2015']) == 1]\n",
    "fiveb = project[(project['rtn_2015']) == 0]"
   ]
  },
  {
   "cell_type": "code",
   "execution_count": null,
   "metadata": {},
   "outputs": [],
   "source": [
    "fivem['liability % of revenue'] = fivem['Total Liabilities']"
   ]
  },
  {
   "cell_type": "code",
   "execution_count": 960,
   "metadata": {},
   "outputs": [],
   "source": [
    "liability = fivem[['sector','Total Liabilities']].groupby('sector')['Total Liabilities'].agg(\"mean\").reset_index()\n",
    "row_drop(liability,9)\n",
    "\n",
    "liability2 = fiveb[['sector','Total Liabilities']].groupby('sector')['Total Liabilities'].agg(\"mean\").reset_index()\n",
    "row_drop(liability2,9)"
   ]
  },
  {
   "cell_type": "code",
   "execution_count": 1005,
   "metadata": {},
   "outputs": [
    {
     "data": {
      "text/plain": [
       "array(['Consumer Discretionary', 'Consumer Staples', 'Energy',\n",
       "       'Financials', 'Health Care', 'Industrials',\n",
       "       'Information Technology', 'Materials', 'Real Estate', 'Utilities'],\n",
       "      dtype=object)"
      ]
     },
     "execution_count": 1005,
     "metadata": {},
     "output_type": "execute_result"
    }
   ],
   "source": [
    "liability2 = liability2.reset_index()\n",
    "\n",
    "liability = liability.reset_index()\n",
    "\n",
    "liability.drop(columns=('index'), inplace=True)\n",
    "liability2.drop(columns=('index'), inplace=True)"
   ]
  },
  {
   "cell_type": "code",
   "execution_count": 1168,
   "metadata": {},
   "outputs": [
    {
     "data": {
      "image/png": "[encoded data removed]",
      "text/plain": [
       "<Figure size 720x432 with 1 Axes>"
      ]
     },
     "metadata": {
      "needs_background": "light"
     },
     "output_type": "display_data"
    }
   ],
   "source": [
    "width=.40\n",
    "\n",
    "fig = plt.figure(figsize=(10, 6))\n",
    "\n",
    "plt.bar(liability.index + (width /2), liability['Total Liabilities'],color='grey', width=width).set_label('Returns greater than 5%')\n",
    "\n",
    "plt.bar(liability2.index - (width /2), liability2['Total Liabilities'], color='black',width=width).set_label('Returns less than 5%')\n",
    "\n",
    "plt.xticks([0,1,2,3,4,5,6,7,8,9],['Consumer Discretionary', 'Consumer Staples', 'Energy','Financials', 'Health Care', 'Industrials','Information Technology', 'Materials', 'Real Estate', 'Utilities'], rotation=90)\n",
    "\n",
    "plt.grid(which='major',linestyle=\"--\",linewidth=.30)\n",
    "\n",
    "plt.ylabel('Total Liabilities')\n",
    "\n",
    "plt.xlabel('Sector')\n",
    "\n",
    "plt.title(\"Sector's dollar value of Total Liabilities\\n$ in millions\")\n",
    "\n",
    "plt.legend()\n",
    "\n",
    "plt.tight_layout()\n",
    "\n",
    "plt.savefig('Model_Final/figure.jpg')\n",
    "\n",
    "plt.show()"
   ]
  },
  {
   "cell_type": "code",
   "execution_count": 1174,
   "metadata": {},
   "outputs": [],
   "source": [
    "capexm = fivem[['sector','Capital Expenditures']].groupby('sector')['Capital Expenditures'].agg(\"mean\").reset_index()\n",
    "capexb = fiveb[['sector','Capital Expenditures']].groupby('sector')['Capital Expenditures'].agg(\"mean\").reset_index()\n",
    "capexb.reset_index(inplace=True)\n",
    "capexm.reset_index(inplace=True)"
   ]
  },
  {
   "cell_type": "code",
   "execution_count": 1180,
   "metadata": {},
   "outputs": [
    {
     "data": {
      "image/png": "[encoded data removed]",
      "text/plain": [
       "<Figure size 720x432 with 1 Axes>"
      ]
     },
     "metadata": {
      "needs_background": "light"
     },
     "output_type": "display_data"
    }
   ],
   "source": [
    "width = .40\n",
    "\n",
    "fig = plt.figure(figsize=(10, 6))\n",
    "\n",
    "plt.bar(capexm.index + (width/2), capexm['Capital Expenditures'], color='grey', width=width).set_label('Return greater 5%')\n",
    "\n",
    "plt.bar(capexb.index - (width/2), capexb['Capital Expenditures'], color='black',width=width).set_label('Return below 5%')\n",
    "\n",
    "plt.xticks([0,1,2,3,4,5,6,7,8,9],['Consumer Discretionary', 'Consumer Staples', 'Energy','Financials', 'Health Care', 'Industrials','Information Technology', 'Materials', 'Real Estate', 'Utilities'], rotation=90)\n",
    "\n",
    "plt.grid(which='major',linestyle=\"--\",linewidth=.30)\n",
    "\n",
    "plt.ylabel('Capital Expenditures')\n",
    "\n",
    "plt.xlabel('Sector')\n",
    "\n",
    "plt.title(\"Sector's dollar value of Capital Expenditures\\n $ in millions\")\n",
    "\n",
    "plt.tight_layout()\n",
    "\n",
    "plt.legend()\n",
    "\n",
    "plt.savefig('Model_Final/figure.jpg')\n",
    "\n",
    "plt.show()"
   ]
  },
  {
   "cell_type": "code",
   "execution_count": 1153,
   "metadata": {},
   "outputs": [],
   "source": [
    "acctm = fivem[['sector','Accounts Receivable']].groupby('sector')['Accounts Receivable'].agg(\"mean\").reset_index()\n",
    "acctb = fiveb[['sector','Accounts Receivable']].groupby('sector')['Accounts Receivable'].agg(\"mean\").reset_index()"
   ]
  },
  {
   "cell_type": "code",
   "execution_count": 1158,
   "metadata": {},
   "outputs": [],
   "source": [
    "acctb['Accounts Receivable'] = acctb['Accounts Receivable'].apply(lambda x:abs(x))\n",
    "acctm['Accounts Receivable'] = acctm['Accounts Receivable'].apply(lambda x:abs(x))"
   ]
  },
  {
   "cell_type": "code",
   "execution_count": 1165,
   "metadata": {},
   "outputs": [
    {
     "data": {
      "image/png": "[encoded data removed]",
      "text/plain": [
       "<Figure size 720x432 with 1 Axes>"
      ]
     },
     "metadata": {
      "needs_background": "light"
     },
     "output_type": "display_data"
    }
   ],
   "source": [
    "width=.40\n",
    "\n",
    "fig = plt.figure(figsize=(10, 6))\n",
    "\n",
    "plt.plot(acctm['sector'], acctm['Accounts Receivable'], color='grey', label='Return greater 5%' ,marker='*')\n",
    "\n",
    "plt.plot(acctb['sector'], acctb['Accounts Receivable'], color='black',label='Return below 5%',marker='*')\n",
    "\n",
    "plt.xticks([0,1,2,3,4,5,6,7,8,9,10],['Consumer Discretionary', 'Consumer Staples', 'Energy','Financials', 'Health Care', 'Industrials','Information Technology', 'Materials', 'Real Estate','Telecommunications Services','Utilities'], rotation=90)\n",
    "\n",
    "plt.grid(which='major',linestyle=\"--\",linewidth=.30)\n",
    "\n",
    "plt.ylabel('Account Receivable')\n",
    "\n",
    "plt.xlabel('Sector')\n",
    "\n",
    "plt.title(\"Sector's dollar value of Account Receivable\\n $ in millions\")\n",
    "\n",
    "plt.tight_layout()\n",
    "\n",
    "plt.legend()\n",
    "\n",
    "plt.savefig('Model_Final/figure.png')\n",
    "\n",
    "plt.show()"
   ]
  },
  {
   "cell_type": "code",
   "execution_count": 1096,
   "metadata": {},
   "outputs": [],
   "source": [
    "avgpm = fivem[['sector','avg_price']].groupby('sector')['avg_price'].agg(\"mean\").reset_index()\n",
    "avgpb = fiveb[['sector','avg_price']].groupby('sector')['avg_price'].agg(\"mean\").reset_index()"
   ]
  },
  {
   "cell_type": "code",
   "execution_count": 1470,
   "metadata": {},
   "outputs": [
    {
     "data": {
      "image/png": "[encoded data removed]",
      "text/plain": [
       "<Figure size 720x432 with 1 Axes>"
      ]
     },
     "metadata": {
      "needs_background": "light"
     },
     "output_type": "display_data"
    }
   ],
   "source": [
    "fig = plt.figure(figsize=(10, 6))\n",
    "\n",
    "plt.plot(avgpm['sector'], avgpm['avg_price'], color='grey', label='Return greater 5%',marker='*')\n",
    "\n",
    "plt.plot(avgpb['sector'], avgpb['avg_price'], color='black',label='Return below 5%',marker=\"*\")\n",
    "\n",
    "plt.xticks(rotation=90)\n",
    "\n",
    "plt.grid(which='major',linestyle=\"--\",linewidth=.30)\n",
    "\n",
    "plt.ylabel('Avg Price')\n",
    "\n",
    "plt.xlabel('Sector')\n",
    "\n",
    "plt.title(\"Sector's Average Price\")\n",
    "\n",
    "plt.legend()\n",
    "\n",
    "plt.tight_layout()\n",
    "\n",
    "plt.savefig('Model_Final/figure.jpg')\n",
    "\n",
    "plt.show()"
   ]
  },
  {
   "cell_type": "markdown",
   "metadata": {},
   "source": [
    "_**Using the groupby function to count return per state**_\n",
    "\n",
    "*Returns are divided as below 5% and above 5%*"
   ]
  },
  {
   "cell_type": "code",
   "execution_count": 1320,
   "metadata": {},
   "outputs": [
    {
     "data": {
      "text/html": [
       "<div>\n",
       "<style scoped>\n",
       "    .dataframe tbody tr th:only-of-type {\n",
       "        vertical-align: middle;\n",
       "    }\n",
       "\n",
       "    .dataframe tbody tr th {\n",
       "        vertical-align: top;\n",
       "    }\n",
       "\n",
       "    .dataframe thead th {\n",
       "        text-align: right;\n",
       "    }\n",
       "</style>\n",
       "<table border=\"1\" class=\"dataframe\">\n",
       "  <thead>\n",
       "    <tr style=\"text-align: right;\">\n",
       "      <th></th>\n",
       "      <th>state</th>\n",
       "      <th>sector</th>\n",
       "    </tr>\n",
       "  </thead>\n",
       "  <tbody>\n",
       "    <tr>\n",
       "      <th>2</th>\n",
       "      <td>California</td>\n",
       "      <td>15</td>\n",
       "    </tr>\n",
       "    <tr>\n",
       "      <th>21</th>\n",
       "      <td>New York</td>\n",
       "      <td>14</td>\n",
       "    </tr>\n",
       "    <tr>\n",
       "      <th>28</th>\n",
       "      <td>Texas</td>\n",
       "      <td>11</td>\n",
       "    </tr>\n",
       "    <tr>\n",
       "      <th>20</th>\n",
       "      <td>New Jersey</td>\n",
       "      <td>9</td>\n",
       "    </tr>\n",
       "    <tr>\n",
       "      <th>13</th>\n",
       "      <td>Massachusetts</td>\n",
       "      <td>7</td>\n",
       "    </tr>\n",
       "  </tbody>\n",
       "</table>\n",
       "</div>"
      ],
      "text/plain": [
       "             state  sector\n",
       "2       California      15\n",
       "21        New York      14\n",
       "28           Texas      11\n",
       "20      New Jersey       9\n",
       "13   Massachusetts       7"
      ]
     },
     "execution_count": 1320,
     "metadata": {},
     "output_type": "execute_result"
    }
   ],
   "source": [
    "fivem[['state','sector']].groupby('state')['sector'].agg('count').reset_index().sort_values('sector', ascending=False).head(5)"
   ]
  },
  {
   "cell_type": "code",
   "execution_count": 1237,
   "metadata": {},
   "outputs": [
    {
     "data": {
      "text/html": [
       "<div>\n",
       "<style scoped>\n",
       "    .dataframe tbody tr th:only-of-type {\n",
       "        vertical-align: middle;\n",
       "    }\n",
       "\n",
       "    .dataframe tbody tr th {\n",
       "        vertical-align: top;\n",
       "    }\n",
       "\n",
       "    .dataframe thead th {\n",
       "        text-align: right;\n",
       "    }\n",
       "</style>\n",
       "<table border=\"1\" class=\"dataframe\">\n",
       "  <thead>\n",
       "    <tr style=\"text-align: right;\">\n",
       "      <th></th>\n",
       "      <th>state</th>\n",
       "      <th>sector</th>\n",
       "    </tr>\n",
       "  </thead>\n",
       "  <tbody>\n",
       "    <tr>\n",
       "      <th>2</th>\n",
       "      <td>California</td>\n",
       "      <td>20</td>\n",
       "    </tr>\n",
       "    <tr>\n",
       "      <th>28</th>\n",
       "      <td>Texas</td>\n",
       "      <td>16</td>\n",
       "    </tr>\n",
       "    <tr>\n",
       "      <th>21</th>\n",
       "      <td>New York</td>\n",
       "      <td>14</td>\n",
       "    </tr>\n",
       "    <tr>\n",
       "      <th>8</th>\n",
       "      <td>Illinois</td>\n",
       "      <td>9</td>\n",
       "    </tr>\n",
       "    <tr>\n",
       "      <th>23</th>\n",
       "      <td>Ohio</td>\n",
       "      <td>7</td>\n",
       "    </tr>\n",
       "  </tbody>\n",
       "</table>\n",
       "</div>"
      ],
      "text/plain": [
       "          state  sector\n",
       "2    California      20\n",
       "28        Texas      16\n",
       "21     New York      14\n",
       "8      Illinois       9\n",
       "23         Ohio       7"
      ]
     },
     "execution_count": 1237,
     "metadata": {},
     "output_type": "execute_result"
    }
   ],
   "source": [
    "fiveb[['state','sector']].groupby('state')['sector'].agg('count').reset_index().sort_values('sector', ascending=False).head(5)"
   ]
  },
  {
   "cell_type": "code",
   "execution_count": 1329,
   "metadata": {},
   "outputs": [
    {
     "data": {
      "text/html": [
       "<div>\n",
       "<style scoped>\n",
       "    .dataframe tbody tr th:only-of-type {\n",
       "        vertical-align: middle;\n",
       "    }\n",
       "\n",
       "    .dataframe tbody tr th {\n",
       "        vertical-align: top;\n",
       "    }\n",
       "\n",
       "    .dataframe thead th {\n",
       "        text-align: right;\n",
       "    }\n",
       "</style>\n",
       "<table border=\"1\" class=\"dataframe\">\n",
       "  <thead>\n",
       "    <tr style=\"text-align: right;\">\n",
       "      <th></th>\n",
       "      <th>sector</th>\n",
       "      <th>rtn_2015</th>\n",
       "    </tr>\n",
       "  </thead>\n",
       "  <tbody>\n",
       "    <tr>\n",
       "      <th>0</th>\n",
       "      <td>Consumer Discretionary</td>\n",
       "      <td>30</td>\n",
       "    </tr>\n",
       "    <tr>\n",
       "      <th>5</th>\n",
       "      <td>Industrials</td>\n",
       "      <td>28</td>\n",
       "    </tr>\n",
       "    <tr>\n",
       "      <th>6</th>\n",
       "      <td>Information Technology</td>\n",
       "      <td>21</td>\n",
       "    </tr>\n",
       "    <tr>\n",
       "      <th>2</th>\n",
       "      <td>Energy</td>\n",
       "      <td>18</td>\n",
       "    </tr>\n",
       "    <tr>\n",
       "      <th>4</th>\n",
       "      <td>Health Care</td>\n",
       "      <td>11</td>\n",
       "    </tr>\n",
       "    <tr>\n",
       "      <th>7</th>\n",
       "      <td>Materials</td>\n",
       "      <td>11</td>\n",
       "    </tr>\n",
       "    <tr>\n",
       "      <th>10</th>\n",
       "      <td>Utilities</td>\n",
       "      <td>10</td>\n",
       "    </tr>\n",
       "    <tr>\n",
       "      <th>1</th>\n",
       "      <td>Consumer Staples</td>\n",
       "      <td>6</td>\n",
       "    </tr>\n",
       "    <tr>\n",
       "      <th>8</th>\n",
       "      <td>Real Estate</td>\n",
       "      <td>4</td>\n",
       "    </tr>\n",
       "    <tr>\n",
       "      <th>3</th>\n",
       "      <td>Financials</td>\n",
       "      <td>2</td>\n",
       "    </tr>\n",
       "    <tr>\n",
       "      <th>9</th>\n",
       "      <td>Telecommunications Services</td>\n",
       "      <td>1</td>\n",
       "    </tr>\n",
       "  </tbody>\n",
       "</table>\n",
       "</div>"
      ],
      "text/plain": [
       "                         sector  rtn_2015\n",
       "0        Consumer Discretionary        30\n",
       "5                   Industrials        28\n",
       "6        Information Technology        21\n",
       "2                        Energy        18\n",
       "4                   Health Care        11\n",
       "7                     Materials        11\n",
       "10                    Utilities        10\n",
       "1              Consumer Staples         6\n",
       "8                   Real Estate         4\n",
       "3                    Financials         2\n",
       "9   Telecommunications Services         1"
      ]
     },
     "execution_count": 1329,
     "metadata": {},
     "output_type": "execute_result"
    }
   ],
   "source": [
    "fiveb[['rtn_2015','sector']].groupby('sector')['rtn_2015'].agg('count').reset_index().sort_values('rtn_2015', ascending=False)"
   ]
  },
  {
   "cell_type": "code",
   "execution_count": 1241,
   "metadata": {},
   "outputs": [
    {
     "data": {
      "text/html": [
       "<div>\n",
       "<style scoped>\n",
       "    .dataframe tbody tr th:only-of-type {\n",
       "        vertical-align: middle;\n",
       "    }\n",
       "\n",
       "    .dataframe tbody tr th {\n",
       "        vertical-align: top;\n",
       "    }\n",
       "\n",
       "    .dataframe thead th {\n",
       "        text-align: right;\n",
       "    }\n",
       "</style>\n",
       "<table border=\"1\" class=\"dataframe\">\n",
       "  <thead>\n",
       "    <tr style=\"text-align: right;\">\n",
       "      <th></th>\n",
       "      <th>sector</th>\n",
       "      <th>Net Cash Flow-Operating</th>\n",
       "    </tr>\n",
       "  </thead>\n",
       "  <tbody>\n",
       "    <tr>\n",
       "      <th>9</th>\n",
       "      <td>Telecommunications Services</td>\n",
       "      <td>18867.5000</td>\n",
       "    </tr>\n",
       "    <tr>\n",
       "      <th>2</th>\n",
       "      <td>Energy</td>\n",
       "      <td>3666.0000</td>\n",
       "    </tr>\n",
       "    <tr>\n",
       "      <th>1</th>\n",
       "      <td>Consumer Staples</td>\n",
       "      <td>3414.5177</td>\n",
       "    </tr>\n",
       "    <tr>\n",
       "      <th>6</th>\n",
       "      <td>Information Technology</td>\n",
       "      <td>2574.1205</td>\n",
       "    </tr>\n",
       "    <tr>\n",
       "      <th>0</th>\n",
       "      <td>Consumer Discretionary</td>\n",
       "      <td>2570.6953</td>\n",
       "    </tr>\n",
       "    <tr>\n",
       "      <th>4</th>\n",
       "      <td>Health Care</td>\n",
       "      <td>2403.3398</td>\n",
       "    </tr>\n",
       "    <tr>\n",
       "      <th>10</th>\n",
       "      <td>Utilities</td>\n",
       "      <td>2136.7678</td>\n",
       "    </tr>\n",
       "    <tr>\n",
       "      <th>5</th>\n",
       "      <td>Industrials</td>\n",
       "      <td>1960.8393</td>\n",
       "    </tr>\n",
       "    <tr>\n",
       "      <th>7</th>\n",
       "      <td>Materials</td>\n",
       "      <td>1385.1153</td>\n",
       "    </tr>\n",
       "    <tr>\n",
       "      <th>8</th>\n",
       "      <td>Real Estate</td>\n",
       "      <td>1222.9610</td>\n",
       "    </tr>\n",
       "    <tr>\n",
       "      <th>3</th>\n",
       "      <td>Financials</td>\n",
       "      <td>674.3000</td>\n",
       "    </tr>\n",
       "  </tbody>\n",
       "</table>\n",
       "</div>"
      ],
      "text/plain": [
       "                         sector  Net Cash Flow-Operating\n",
       "9   Telecommunications Services               18867.5000\n",
       "2                        Energy                3666.0000\n",
       "1              Consumer Staples                3414.5177\n",
       "6        Information Technology                2574.1205\n",
       "0        Consumer Discretionary                2570.6953\n",
       "4                   Health Care                2403.3398\n",
       "10                    Utilities                2136.7678\n",
       "5                   Industrials                1960.8393\n",
       "7                     Materials                1385.1153\n",
       "8                   Real Estate                1222.9610\n",
       "3                    Financials                 674.3000"
      ]
     },
     "execution_count": 1241,
     "metadata": {},
     "output_type": "execute_result"
    }
   ],
   "source": [
    "fivem[['Net Cash Flow-Operating','sector']].groupby('sector')['Net Cash Flow-Operating'].agg('mean').reset_index().sort_values('Net Cash Flow-Operating', ascending=False)"
   ]
  },
  {
   "cell_type": "code",
   "execution_count": 1340,
   "metadata": {},
   "outputs": [
    {
     "data": {
      "text/html": [
       "<div>\n",
       "<style scoped>\n",
       "    .dataframe tbody tr th:only-of-type {\n",
       "        vertical-align: middle;\n",
       "    }\n",
       "\n",
       "    .dataframe tbody tr th {\n",
       "        vertical-align: top;\n",
       "    }\n",
       "\n",
       "    .dataframe thead th {\n",
       "        text-align: right;\n",
       "    }\n",
       "</style>\n",
       "<table border=\"1\" class=\"dataframe\">\n",
       "  <thead>\n",
       "    <tr style=\"text-align: right;\">\n",
       "      <th></th>\n",
       "      <th>sector</th>\n",
       "      <th>Net Cash Flow-Operating</th>\n",
       "    </tr>\n",
       "  </thead>\n",
       "  <tbody>\n",
       "    <tr>\n",
       "      <th>9</th>\n",
       "      <td>Telecommunications Services</td>\n",
       "      <td>38930.0000</td>\n",
       "    </tr>\n",
       "    <tr>\n",
       "      <th>6</th>\n",
       "      <td>Information Technology</td>\n",
       "      <td>7289.4800</td>\n",
       "    </tr>\n",
       "    <tr>\n",
       "      <th>1</th>\n",
       "      <td>Consumer Staples</td>\n",
       "      <td>6699.3167</td>\n",
       "    </tr>\n",
       "    <tr>\n",
       "      <th>2</th>\n",
       "      <td>Energy</td>\n",
       "      <td>3410.3492</td>\n",
       "    </tr>\n",
       "    <tr>\n",
       "      <th>4</th>\n",
       "      <td>Health Care</td>\n",
       "      <td>2903.8620</td>\n",
       "    </tr>\n",
       "    <tr>\n",
       "      <th>10</th>\n",
       "      <td>Utilities</td>\n",
       "      <td>2897.0127</td>\n",
       "    </tr>\n",
       "    <tr>\n",
       "      <th>5</th>\n",
       "      <td>Industrials</td>\n",
       "      <td>2534.2761</td>\n",
       "    </tr>\n",
       "    <tr>\n",
       "      <th>7</th>\n",
       "      <td>Materials</td>\n",
       "      <td>1979.5359</td>\n",
       "    </tr>\n",
       "    <tr>\n",
       "      <th>0</th>\n",
       "      <td>Consumer Discretionary</td>\n",
       "      <td>1283.3257</td>\n",
       "    </tr>\n",
       "    <tr>\n",
       "      <th>8</th>\n",
       "      <td>Real Estate</td>\n",
       "      <td>1239.9530</td>\n",
       "    </tr>\n",
       "    <tr>\n",
       "      <th>3</th>\n",
       "      <td>Financials</td>\n",
       "      <td>145.8725</td>\n",
       "    </tr>\n",
       "  </tbody>\n",
       "</table>\n",
       "</div>"
      ],
      "text/plain": [
       "                         sector  Net Cash Flow-Operating\n",
       "9   Telecommunications Services               38930.0000\n",
       "6        Information Technology                7289.4800\n",
       "1              Consumer Staples                6699.3167\n",
       "2                        Energy                3410.3492\n",
       "4                   Health Care                2903.8620\n",
       "10                    Utilities                2897.0127\n",
       "5                   Industrials                2534.2761\n",
       "7                     Materials                1979.5359\n",
       "0        Consumer Discretionary                1283.3257\n",
       "8                   Real Estate                1239.9530\n",
       "3                    Financials                 145.8725"
      ]
     },
     "execution_count": 1340,
     "metadata": {},
     "output_type": "execute_result"
    }
   ],
   "source": [
    "fiveb[['Net Cash Flow-Operating','sector']].groupby('sector')['Net Cash Flow-Operating'].agg('mean').reset_index().sort_values('Net Cash Flow-Operating', ascending=False)"
   ]
  },
  {
   "cell_type": "code",
   "execution_count": 1217,
   "metadata": {},
   "outputs": [
    {
     "name": "stdout",
     "output_type": "stream",
     "text": [
      "<class 'pandas.core.frame.DataFrame'>\n",
      "Int64Index: 116 entries, 8 to 413\n",
      "Data columns (total 44 columns):\n",
      " #   Column                            Non-Null Count  Dtype  \n",
      "---  ------                            --------------  -----  \n",
      " 0   ticker                            116 non-null    object \n",
      " 1   Accounts Payable                  116 non-null    float64\n",
      " 2   Accounts Receivable               116 non-null    float64\n",
      " 3   Capital Expenditures              116 non-null    float64\n",
      " 4   Cash Ratio                        116 non-null    float64\n",
      " 5   Cash and Cash Equivalents         116 non-null    float64\n",
      " 6   Cost of Revenue                   116 non-null    float64\n",
      " 7   Current Ratio                     116 non-null    float64\n",
      " 8   Earnings Before Interest and Tax  116 non-null    float64\n",
      " 9   Gross Profit                      116 non-null    float64\n",
      " 10  Inventory                         116 non-null    float64\n",
      " 11  Investments                       116 non-null    float64\n",
      " 12  Liabilities                       116 non-null    float64\n",
      " 13  Long-Term Debt                    116 non-null    float64\n",
      " 14  Long-Term Investments             116 non-null    float64\n",
      " 15  Net Cash Flow                     116 non-null    float64\n",
      " 16  Net Cash Flow-Operating           116 non-null    float64\n",
      " 17  Net Cash Flows-Financing          116 non-null    float64\n",
      " 18  Net Cash Flows-Investing          116 non-null    float64\n",
      " 19  Net Income                        116 non-null    float64\n",
      " 20  Operating Income                  116 non-null    float64\n",
      " 21  Operating Margin                  116 non-null    int64  \n",
      " 22  Pre-Tax Margin                    116 non-null    int64  \n",
      " 23  Profit Margin                     116 non-null    int64  \n",
      " 24  Quick Ratio                       116 non-null    float64\n",
      " 25  Retained Earnings                 116 non-null    float64\n",
      " 26  Sales, General and Admin.         116 non-null    float64\n",
      " 27  Total Assets                      116 non-null    float64\n",
      " 28  Total Current Assets              116 non-null    float64\n",
      " 29  Total Current Liabilities         116 non-null    float64\n",
      " 30  Total Equity                      116 non-null    float64\n",
      " 31  Total Liabilities                 116 non-null    float64\n",
      " 32  Total Liabilities & Equity        116 non-null    float64\n",
      " 33  Total Revenue                     116 non-null    float64\n",
      " 34  Earnings Per Share                116 non-null    float64\n",
      " 35  Estimated Shares Outstanding      116 non-null    float64\n",
      " 36  year                              116 non-null    int64  \n",
      " 37  security                          116 non-null    object \n",
      " 38  sector                            116 non-null    object \n",
      " 39  state                             116 non-null    object \n",
      " 40  date                              116 non-null    float64\n",
      " 41  rtn_2015                          116 non-null    float64\n",
      " 42  avg_price                         116 non-null    float64\n",
      " 43  volume                            116 non-null    float64\n",
      "dtypes: float64(36), int64(4), object(4)\n",
      "memory usage: 40.8+ KB\n"
     ]
    },
    {
     "data": {
      "text/html": [
       "<div>\n",
       "<style scoped>\n",
       "    .dataframe tbody tr th:only-of-type {\n",
       "        vertical-align: middle;\n",
       "    }\n",
       "\n",
       "    .dataframe tbody tr th {\n",
       "        vertical-align: top;\n",
       "    }\n",
       "\n",
       "    .dataframe thead th {\n",
       "        text-align: right;\n",
       "    }\n",
       "</style>\n",
       "<table border=\"1\" class=\"dataframe\">\n",
       "  <thead>\n",
       "    <tr style=\"text-align: right;\">\n",
       "      <th></th>\n",
       "    </tr>\n",
       "  </thead>\n",
       "  <tbody>\n",
       "  </tbody>\n",
       "</table>\n",
       "</div>"
      ],
      "text/plain": [
       "Empty DataFrame\n",
       "Columns: []\n",
       "Index: []"
      ]
     },
     "execution_count": 1217,
     "metadata": {},
     "output_type": "execute_result"
    }
   ],
   "source": [
    "pd.DataFrame(fivem.info()"
   ]
  },
  {
   "cell_type": "code",
   "execution_count": 909,
   "metadata": {},
   "outputs": [
    {
     "data": {
      "text/html": [
       "<div>\n",
       "<style scoped>\n",
       "    .dataframe tbody tr th:only-of-type {\n",
       "        vertical-align: middle;\n",
       "    }\n",
       "\n",
       "    .dataframe tbody tr th {\n",
       "        vertical-align: top;\n",
       "    }\n",
       "\n",
       "    .dataframe thead th {\n",
       "        text-align: right;\n",
       "    }\n",
       "</style>\n",
       "<table border=\"1\" class=\"dataframe\">\n",
       "  <thead>\n",
       "    <tr style=\"text-align: right;\">\n",
       "      <th></th>\n",
       "      <th>ticker</th>\n",
       "      <th>Accounts Payable</th>\n",
       "      <th>Accounts Receivable</th>\n",
       "      <th>Capital Expenditures</th>\n",
       "      <th>Cash Ratio</th>\n",
       "      <th>Cash and Cash Equivalents</th>\n",
       "      <th>Cost of Revenue</th>\n",
       "      <th>Current Ratio</th>\n",
       "      <th>Earnings Before Interest and Tax</th>\n",
       "      <th>Gross Profit</th>\n",
       "      <th>...</th>\n",
       "      <th>Earnings Per Share</th>\n",
       "      <th>Estimated Shares Outstanding</th>\n",
       "      <th>year</th>\n",
       "      <th>security</th>\n",
       "      <th>sector</th>\n",
       "      <th>state</th>\n",
       "      <th>date</th>\n",
       "      <th>rtn_2015</th>\n",
       "      <th>avg_price</th>\n",
       "      <th>volume</th>\n",
       "    </tr>\n",
       "  </thead>\n",
       "  <tbody>\n",
       "    <tr>\n",
       "      <th>8</th>\n",
       "      <td>ABC</td>\n",
       "      <td>21578.2270</td>\n",
       "      <td>-1478.7930</td>\n",
       "      <td>-231.5850</td>\n",
       "      <td>10.0000</td>\n",
       "      <td>2167.4420</td>\n",
       "      <td>132000.0000</td>\n",
       "      <td>94.0000</td>\n",
       "      <td>378.0000</td>\n",
       "      <td>3529.3130</td>\n",
       "      <td>...</td>\n",
       "      <td>-0.6200</td>\n",
       "      <td>222.8468</td>\n",
       "      <td>2015</td>\n",
       "      <td>AmerisourceBergen Corp</td>\n",
       "      <td>Health Care</td>\n",
       "      <td>Pennsylvania</td>\n",
       "      <td>2015.0000</td>\n",
       "      <td>1.0000</td>\n",
       "      <td>102.0945</td>\n",
       "      <td>1.7650</td>\n",
       "    </tr>\n",
       "  </tbody>\n",
       "</table>\n",
       "<p>1 rows × 44 columns</p>\n",
       "</div>"
      ],
      "text/plain": [
       "  ticker  Accounts Payable  Accounts Receivable  Capital Expenditures  \\\n",
       "8    ABC        21578.2270           -1478.7930             -231.5850   \n",
       "\n",
       "   Cash Ratio  Cash and Cash Equivalents  Cost of Revenue  Current Ratio  \\\n",
       "8     10.0000                  2167.4420      132000.0000        94.0000   \n",
       "\n",
       "   Earnings Before Interest and Tax  Gross Profit  ...  Earnings Per Share  \\\n",
       "8                          378.0000     3529.3130  ...             -0.6200   \n",
       "\n",
       "   Estimated Shares Outstanding  year                security       sector  \\\n",
       "8                      222.8468  2015  AmerisourceBergen Corp  Health Care   \n",
       "\n",
       "           state      date  rtn_2015  avg_price  volume  \n",
       "8   Pennsylvania 2015.0000    1.0000   102.0945  1.7650  \n",
       "\n",
       "[1 rows x 44 columns]"
      ]
     },
     "execution_count": 909,
     "metadata": {},
     "output_type": "execute_result"
    }
   ],
   "source": [
    "fivem.head(1)"
   ]
  },
  {
   "cell_type": "markdown",
   "metadata": {},
   "source": [
    "------------------------"
   ]
  },
  {
   "cell_type": "markdown",
   "metadata": {},
   "source": [
    "#### Merging of Data sets price, metrics, and equity"
   ]
  },
  {
   "cell_type": "markdown",
   "metadata": {},
   "source": [
    "---------------------------"
   ]
  },
  {
   "cell_type": "markdown",
   "metadata": {},
   "source": [
    "_**Merging of Datasets 'metrics', 'price' and 'equity', analysis of its dimension**_"
   ]
  },
  {
   "cell_type": "code",
   "execution_count": 1385,
   "metadata": {},
   "outputs": [
    {
     "data": {
      "text/plain": [
       "(342, 40)"
      ]
     },
     "execution_count": 1385,
     "metadata": {},
     "output_type": "execute_result"
    }
   ],
   "source": [
    "data = pd.merge(metric, equity, on='ticker', how='left')\n",
    "\n",
    "data.shape"
   ]
  },
  {
   "cell_type": "code",
   "execution_count": 1386,
   "metadata": {},
   "outputs": [],
   "source": [
    "project = pd.merge(data, price, on='ticker', how='left')"
   ]
  },
  {
   "cell_type": "code",
   "execution_count": 1387,
   "metadata": {},
   "outputs": [
    {
     "data": {
      "text/plain": [
       "(414, 44)"
      ]
     },
     "execution_count": 1387,
     "metadata": {},
     "output_type": "execute_result"
    }
   ],
   "source": [
    "project.shape"
   ]
  },
  {
   "cell_type": "markdown",
   "metadata": {},
   "source": [
    "_**Checking the merged dataset for zero values for feature engineering opporunity**_"
   ]
  },
  {
   "cell_type": "code",
   "execution_count": 1388,
   "metadata": {},
   "outputs": [
    {
     "data": {
      "text/plain": [
       "ticker                               0\n",
       "Accounts Payable                     0\n",
       "Accounts Receivable                  0\n",
       "Capital Expenditures                 0\n",
       "Cash Ratio                           0\n",
       "Cash and Cash Equivalents            0\n",
       "Cost of Revenue                      0\n",
       "Current Ratio                        0\n",
       "Earnings Before Interest and Tax     0\n",
       "Gross Profit                         0\n",
       "Inventory                            0\n",
       "Investments                          0\n",
       "Liabilities                          0\n",
       "Long-Term Debt                       0\n",
       "Long-Term Investments                0\n",
       "Net Cash Flow                        0\n",
       "Net Cash Flow-Operating              0\n",
       "Net Cash Flows-Financing             0\n",
       "Net Cash Flows-Investing             0\n",
       "Net Income                           0\n",
       "Operating Income                     0\n",
       "Operating Margin                     0\n",
       "Pre-Tax Margin                       0\n",
       "Profit Margin                        0\n",
       "Quick Ratio                          0\n",
       "Retained Earnings                    0\n",
       "Sales, General and Admin.            0\n",
       "Total Assets                         0\n",
       "Total Current Assets                 0\n",
       "Total Current Liabilities            0\n",
       "Total Equity                         0\n",
       "Total Liabilities                    0\n",
       "Total Liabilities & Equity           0\n",
       "Total Revenue                        0\n",
       "Earnings Per Share                   0\n",
       "Estimated Shares Outstanding         0\n",
       "year                                 0\n",
       "security                             0\n",
       "sector                               0\n",
       "state                                0\n",
       "date                                84\n",
       "rtn_2015                            84\n",
       "avg_price                           84\n",
       "volume                              84\n",
       "dtype: int64"
      ]
     },
     "execution_count": 1388,
     "metadata": {},
     "output_type": "execute_result"
    }
   ],
   "source": [
    "project.isna().sum()"
   ]
  },
  {
   "cell_type": "markdown",
   "metadata": {},
   "source": [
    "_**Check the dataset for zero entries for an observation**_"
   ]
  },
  {
   "cell_type": "code",
   "execution_count": 1389,
   "metadata": {},
   "outputs": [
    {
     "data": {
      "text/plain": [
       "ticker                              0\n",
       "Accounts Payable                    0\n",
       "Accounts Receivable                 0\n",
       "Capital Expenditures                0\n",
       "Cash Ratio                          0\n",
       "Cash and Cash Equivalents           0\n",
       "Cost of Revenue                     0\n",
       "Current Ratio                       0\n",
       "Earnings Before Interest and Tax    0\n",
       "Gross Profit                        0\n",
       "Inventory                           0\n",
       "Investments                         0\n",
       "Liabilities                         0\n",
       "Long-Term Debt                      0\n",
       "Long-Term Investments               0\n",
       "Net Cash Flow                       0\n",
       "Net Cash Flow-Operating             0\n",
       "Net Cash Flows-Financing            0\n",
       "Net Cash Flows-Investing            0\n",
       "Net Income                          0\n",
       "Operating Income                    0\n",
       "Operating Margin                    0\n",
       "Pre-Tax Margin                      0\n",
       "Profit Margin                       0\n",
       "Quick Ratio                         0\n",
       "Retained Earnings                   0\n",
       "Sales, General and Admin.           0\n",
       "Total Assets                        0\n",
       "Total Current Assets                0\n",
       "Total Current Liabilities           0\n",
       "Total Equity                        0\n",
       "Total Liabilities                   0\n",
       "Total Liabilities & Equity          0\n",
       "Total Revenue                       0\n",
       "Earnings Per Share                  0\n",
       "Estimated Shares Outstanding        0\n",
       "year                                0\n",
       "security                            0\n",
       "sector                              0\n",
       "state                               0\n",
       "date                                0\n",
       "rtn_2015                            0\n",
       "avg_price                           0\n",
       "volume                              0\n",
       "dtype: int64"
      ]
     },
     "execution_count": 1389,
     "metadata": {},
     "output_type": "execute_result"
    }
   ],
   "source": [
    "zero_count(project)"
   ]
  },
  {
   "cell_type": "markdown",
   "metadata": {},
   "source": [
    "_**Checking for duplicates entries in the merged project data set and dropping null values**_"
   ]
  },
  {
   "cell_type": "code",
   "execution_count": 1395,
   "metadata": {},
   "outputs": [
    {
     "data": {
      "text/plain": [
       "(258, 44)"
      ]
     },
     "execution_count": 1395,
     "metadata": {},
     "output_type": "execute_result"
    }
   ],
   "source": [
    "project.shape"
   ]
  },
  {
   "cell_type": "code",
   "execution_count": 1391,
   "metadata": {},
   "outputs": [],
   "source": [
    "project = project.drop_duplicates()"
   ]
  },
  {
   "cell_type": "code",
   "execution_count": 1392,
   "metadata": {},
   "outputs": [],
   "source": [
    "project = project.dropna()"
   ]
  },
  {
   "cell_type": "code",
   "execution_count": 1393,
   "metadata": {},
   "outputs": [
    {
     "data": {
      "text/plain": [
       "(258, 44)"
      ]
     },
     "execution_count": 1393,
     "metadata": {},
     "output_type": "execute_result"
    }
   ],
   "source": [
    "project.shape"
   ]
  },
  {
   "cell_type": "markdown",
   "metadata": {},
   "source": [
    "---------------------"
   ]
  },
  {
   "cell_type": "markdown",
   "metadata": {},
   "source": [
    "#### Preparing project dataset for model implementation and deploying (testing data) "
   ]
  },
  {
   "cell_type": "markdown",
   "metadata": {},
   "source": [
    "------------------------"
   ]
  },
  {
   "cell_type": "code",
   "execution_count": 1356,
   "metadata": {},
   "outputs": [],
   "source": [
    "corr = project.corr()[\"rtn_2015\"].sort_values(ascending=False).iloc[1:,].head(5)\n",
    "\n",
    "corr_ = project.corr()[\"rtn_2015\"].sort_values(ascending=False).iloc[1:,].tail(8)"
   ]
  },
  {
   "cell_type": "code",
   "execution_count": 1359,
   "metadata": {},
   "outputs": [
    {
     "name": "stdout",
     "output_type": "stream",
     "text": [
      "Liabilities             0.2312\n",
      "avg_price               0.1786\n",
      "Earnings Per Share      0.1644\n",
      "Long-Term Investments   0.1055\n",
      "Net Cash Flow           0.1022\n",
      "Name: rtn_2015, dtype: float64\n"
     ]
    }
   ],
   "source": [
    "print(corr)\n",
    "correlation_metrics = pd.DataFrame(corr)\n",
    "correlation_metrics.to_excel('output.xlsx')"
   ]
  },
  {
   "cell_type": "markdown",
   "metadata": {},
   "source": [
    "_**Analysis of the variable realation interaction with the target variable rtn_2015 and selecting the top corre**_"
   ]
  },
  {
   "cell_type": "markdown",
   "metadata": {},
   "source": [
    "_**Visualization of our feature correlation realtive to rtn_2015 - top ten correlated features**_\n",
    "\n",
    "- Correlation is much lower than normal since we are searching for a set of universal metrics of predicting returns."
   ]
  },
  {
   "cell_type": "code",
   "execution_count": 1472,
   "metadata": {},
   "outputs": [
    {
     "data": {
      "image/png": "[encoded data removed]",
      "text/plain": [
       "<Figure size 720x432 with 1 Axes>"
      ]
     },
     "metadata": {
      "needs_background": "light"
     },
     "output_type": "display_data"
    }
   ],
   "source": [
    "fig = plt.figure(figsize=(10,6))\n",
    "\n",
    "plt.bar(corr.index, corr, color='black').set_label('Positive Correlation')\n",
    "\n",
    "plt.bar(corr_.index, corr_, color='grey').set_label('Negative Correlation')\n",
    "\n",
    "plt.xticks(rotation=90)\n",
    "\n",
    "plt.yticks(np.arange(-.30, .30, step=.05))\n",
    "\n",
    "plt.title('Top 10 Correlated Features Relative to rtn_2015')\n",
    "\n",
    "plt.xlabel('Columns')\n",
    "\n",
    "plt.ylabel('Correlation')\n",
    "\n",
    "plt.grid(which='major',linestyle=\"--\",linewidth=.30)\n",
    "\n",
    "plt.legend(loc='upper center', bbox_to_anchor=(1.15, 1.0))\n",
    "\n",
    "plt.tight_layout()\n",
    "\n",
    "plt.savefig('Model_Final/figure.jpg')\n",
    "\n",
    "plt.show()"
   ]
  },
  {
   "cell_type": "markdown",
   "metadata": {},
   "source": [
    "**The Count of our binary variables 0 and 1 and how they are appropriated**"
   ]
  },
  {
   "cell_type": "code",
   "execution_count": 1375,
   "metadata": {},
   "outputs": [
    {
     "data": {
      "image/png": "[encoded data removed]",
      "text/plain": [
       "<Figure size 432x288 with 1 Axes>"
      ]
     },
     "metadata": {
      "needs_background": "light"
     },
     "output_type": "display_data"
    }
   ],
   "source": [
    "sns.countplot(project['rtn_2015'], color=\"grey\")\n",
    "\n",
    "plt.title('Count of Binary Classification rtn_2015\\n0 or 1')\n",
    "\n",
    "plt.savefig('Model_Final/figure.jpg')\n",
    "\n",
    "plt.show()"
   ]
  },
  {
   "cell_type": "markdown",
   "metadata": {},
   "source": [
    "_**Dichotomy values (0,1): Converting returns with a 5% or more with the value of 1  and 5% or less with the value 0. dichotomy**_"
   ]
  },
  {
   "cell_type": "code",
   "execution_count": 1360,
   "metadata": {},
   "outputs": [],
   "source": [
    "project.loc[project['rtn_2015'] >= .05, 'rtn_2015'] = 1\n",
    "\n",
    "project.loc[project['rtn_2015'] < .05, 'rtn_2015'] = 0"
   ]
  },
  {
   "cell_type": "markdown",
   "metadata": {},
   "source": [
    "[Back to top](#Table-of-contents)"
   ]
  },
  {
   "cell_type": "markdown",
   "metadata": {},
   "source": [
    "### 3.5 Results\n",
    "\n",
    "_**What are your results? **_\n",
    "- This model resulted to a 75 % accuracy in classifying a company base on four valuation metrics that are key determinate of a company annual returns. rtn < 5% = 0 , rtn > 5% = 1. \n",
    "- ROC- AUC shows a consistent prediction in the classification of equities based on 4 valuation metrics at each threshold.\n",
    "- Recursive feature elimination determined that liabilities, account receivable, capital expenditures average price are the 4 key valuation metrics that influence a company annual return in this model. \n",
    "- Grid search cross validation determined that C: 1.0, 'penalty: L2 and  solver: 'sag', was the best hyperparameters that optimized the performance of our model.\n",
    "\n",
    "\n",
    "_**Explain in detail the analysis and studies performed**_\n",
    "\n",
    "- Correlation analysis to obtain a better understanding of correlated relationship of the dataset features to our dependent variable 'rtn_2015' \n",
    "- Recursive Feature Elimination was implemented to select a combination of features that yield as the best dependent variables to predict a company's annual return for the year 2015.\n",
    "- Logistical Regression is the modeling method used to classify our returns as either 0 or 1. 0 = rtn < 5%, 1 = rtn > 5%. We selected the hyperparameters C: 1.0, 'penalty: L2 and  solver: 'sag', to optimize the model’s performance.\n",
    "- Analyze the annual return distribution of our dependent variables in our dataset and was able to conclude that the distribution of returns has a higher probability of returns by shorting (selling) equity's than being long (buying) equity.\n",
    "- I performed a categorization of returns of 5% or more and 5% or less based on the company's location, sectors and level of net-operating cashflow. This was performed to better understand if these factors impacted the company overall performance.\n",
    "- Each sector means return and standard deviation that links the amount of risk to level of return per sector.\n",
    " \n",
    "\n",
    "_**How does the results answer your initial hypothesis?**_\n",
    "\n",
    "Considering the null and alternative hypothesis, we were able to correctly classify an equity  as 0-rtn < 5% or 1-rtn >5% given that we observed a random dataset of 4 valuation metrics and a dependent variable.  This test achieved an accuracy level of 75 %.\n",
    "\n",
    "*Ho: µ  < 5% return = 0*\n",
    "\n",
    "*Hø: µ  > 5% return = 1* \n",
    "    \n",
    "\n",
    "*We accept the null hypothesis if the selected valuation metrics results to a µ return below 5%*\n",
    "    \n",
    "*We reject the null hypothesis if the selected valuation metrics results to a µ return above 5%.*\n",
    "\n",
    "\n",
    "_**What the most important result obtained from the project.**_\n",
    "\n",
    "The most important results obtained from this project is the selection of only 4 valuation metrics to determine the classification of an equites base on a return threshold. These valuation metrics can be analyzed more in-depth by determining their relations to revenue and uncovering a percentage threshold of the valuation metrics relative to this revenue metric. \n",
    "\n",
    "_**Conclusion drawn from the results?**_\n",
    "\n",
    "Conclusion drawn from the results is that to simplify the investment management process the establishment of identifiable core valuation metrics should be the foundation of investment research for retail investors. From these valuation metrics additional sector analysis should be performed to understand the equity valuation relative to its industry peers. This process should improve a retail investor portfolio performance long-term.\n"
   ]
  },
  {
   "cell_type": "markdown",
   "metadata": {},
   "source": [
    "[Back to top](#Table-of-contents)"
   ]
  },
  {
   "cell_type": "markdown",
   "metadata": {},
   "source": [
    "## Conclusion\n",
    "\n",
    "What are your conclusions?"
   ]
  },
  {
   "cell_type": "markdown",
   "metadata": {},
   "source": [
    "In this model we were able to predict the classification of and equity based on returns with an accuracy rate of 75%. The four key valuation metrics used to dictate this conclusion are listed below:\n",
    "- **Liabilities**: Company obligations to repay short-term or long-term debt use to fund the company operations.\n",
    "- **Account Receivable**: A client’s obligations to repay services already rendered by a company. Issues of collecting on Acct Receivable can be reflected in lower operation cash flow, operational inefficient and bad lending policy.\n",
    "- **Capital Expenditures**: capital that’s invested to improve the company’s operations or product. Capital expenditures is central to a company’s competitive position in its specific sector\n",
    "- **Average Price**: The annual average price of a company in 2015. This metric considers the daily high, low and close prices in computing this average.\n",
    "\n",
    "This study was to establish a standardize investment approach that eliminated the additional noise in investment. Our model reduced the investment noise to 4 import metrics for retail investor to analyze prior to committing to investment strategy.\n"
   ]
  },
  {
   "cell_type": "markdown",
   "metadata": {},
   "source": [
    "[Back to top](#Table-of-contents)"
   ]
  },
  {
   "cell_type": "markdown",
   "metadata": {},
   "source": [
    "## References\n",
    "\n",
    "Add references and bibliography you used in the project.\n",
    "\n",
    "Use this as an example for books:\n",
    "\n",
    "- Bishop, Christopher M. 2006. *Pattern Recognition and Machine Learning*. Springer.\n",
    "\n",
    "Use this as an example for articles:\n",
    "\n",
    "- Bubeck, Sébastien. 2015. Convex Optimization: Algorithms and Complexity. *Foundations and Trends in Machine Learning*, **8**(3-4), 231–357.\n",
    "\n",
    "[Back to top](#Table-of-contents)"
   ]
  }
 ],
 "metadata": {
  "kernelspec": {
   "display_name": "Python 3",
   "language": "python",
   "name": "python3"
  },
  "language_info": {
   "codemirror_mode": {
    "name": "ipython",
    "version": 3
   },
   "file_extension": ".py",
   "mimetype": "text/x-python",
   "name": "python",
   "nbconvert_exporter": "python",
   "pygments_lexer": "ipython3",
   "version": "3.8.3"
  }
 },
 "nbformat": 4,
 "nbformat_minor": 4
}
